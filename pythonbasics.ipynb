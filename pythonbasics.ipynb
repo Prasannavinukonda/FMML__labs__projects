{
  "nbformat": 4,
  "nbformat_minor": 0,
  "metadata": {
    "colab": {
      "provenance": [],
      "include_colab_link": true
    },
    "kernelspec": {
      "name": "python3",
      "display_name": "Python 3"
    },
    "language_info": {
      "name": "python"
    }
  },
  "cells": [
    {
      "cell_type": "markdown",
      "metadata": {
        "id": "view-in-github",
        "colab_type": "text"
      },
      "source": [
        "<a href=\"https://colab.research.google.com/github/Prasannavinukonda/FMML__labs__projects/blob/main/pythonbasics.ipynb\" target=\"_parent\"><img src=\"https://colab.research.google.com/assets/colab-badge.svg\" alt=\"Open In Colab\"/></a>"
      ]
    },
    {
      "cell_type": "markdown",
      "source": [
        "# Introduction to **Python**\n",
        "\n"
      ],
      "metadata": {
        "id": "XQIp4kUNtlqT"
      }
    },
    {
      "cell_type": "markdown",
      "source": [
        "## What is Python?\n",
        "Python is a high-level, interpreted programming language known for its simplicity and readability. It was created by Guido van Rossum and first released in 1991. Python's design philosophy emphasizes code readability and simplicity, making it a popular choice for beginners and experienced developers alike."
      ],
      "metadata": {
        "id": "8kTO0L9Zu1X-"
      }
    },
    {
      "cell_type": "markdown",
      "source": [
        "## Key Features of Python\n",
        "- **Easy to Learn and Use**: Python's syntax is straightforward, making it an excellent choice for beginners.\n",
        "- **Interpreted Language**: Python code is executed line by line, which makes debugging easier.\n",
        "- **Dynamically Typed**: You don't need to declare the type of variable when you write code. The interpreter infers the type at runtime.\n",
        "- **Extensive Standard Library**: Python has a rich set of libraries and frameworks that support various applications.\n",
        "- **Cross-Platform**: Python runs on various platforms, including Windows, macOS, and Linux.\n",
        "- **Community Support**: Python has a large and active community that contributes to its development and provides support through forums and tutorials."
      ],
      "metadata": {
        "id": "i1ohc0BQvQiy"
      }
    },
    {
      "cell_type": "markdown",
      "source": [
        "# What are Variables?\n",
        "## Variables are containers for storing data values. In Python, you don’t need to declare a variable with a specific data type.\n",
        "\n"
      ],
      "metadata": {
        "id": "5TIYLg40wrIk"
      }
    },
    {
      "cell_type": "code",
      "source": [
        "x = 5\n",
        "name = \"Alice\"\n",
        "is_active = True\n",
        "# print(x) #Reassigning Variables\n",
        "# x = 10\n",
        "# print(x)"
      ],
      "metadata": {
        "id": "hk4hUifDybD7"
      },
      "execution_count": 1,
      "outputs": []
    },
    {
      "cell_type": "markdown",
      "source": [
        "# IDENTIFIERS\n",
        "\n",
        "## Rules for Identifiers in Python\n",
        "- Must Begin with a Letter or an Underscore (_):\n",
        "\n",
        "  An identifier can start with a letter (a-z, A-Z) or an underscore (_).\n",
        "Examples: variable, _variable, Variable\n",
        "- Followed by Letters, Digits, or Underscores:\n",
        "\n",
        "  After the initial character, the identifier can contain letters, digits (0-9), or underscores.\n",
        "Examples: var1, my_variable, var_2\n",
        "- Case-Sensitive:\n",
        "\n",
        "  Identifiers are case-sensitive, which means variable, Variable, and VARIABLE are different identifiers.\n",
        "Examples: myVar, MyVar, myvar\n",
        "\n",
        "- Cannot Be a Keyword:\n",
        "\n",
        "  Identifiers cannot be the same as Python keywords. Keywords are reserved words in Python that have special meanings.\n",
        "Examples of keywords: if, else, while, for, break, class, try, except, etc.\n",
        "\n",
        "- No Special Characters Other Than Underscores:\n",
        "\n",
        "  Identifiers cannot contain special characters like !, @, #, $, %, ^, &, *, -, +, etc.\n",
        "\n",
        "  Invalid examples: my-var, var@name, name!"
      ],
      "metadata": {
        "id": "j96tC5TDxb9B"
      }
    },
    {
      "cell_type": "markdown",
      "source": [
        "# KEY WORDS"
      ],
      "metadata": {
        "id": "DiqUm6VU7Pny"
      }
    },
    {
      "cell_type": "markdown",
      "source": [
        "## **False**: Boolean value indicating false.\n",
        "## **None**: Represents the absence of a value.\n",
        "## **True:** Boolean value indicating true.\n",
        "## **and:** Logical operator that returns true if both operands are true.\n",
        "## **as:** Used to create an alias while importing a module.\n",
        "## **assert:** Used for debugging purposes to check if a condition is true.\n",
        "## **async:** Declares an asynchronous function.\n",
        "## **await:** Waits for the result of an async function.\n",
        "## **break:** Terminates the nearest enclosing loop.\n",
        "## **class:** Defines a new class.\n",
        "## **continue:** Skips the rest of the code inside a loop for the current iteration only.\n",
        "## **def:** Defines a new function.\n",
        "## **del:** Deletes an object.\n",
        "## **elif:** Else if condition, used in conditional statements.\n",
        "## **else:** Used in conditional statements to provide an alternative block of code if the condition is false.\n",
        "## **except:** Catches exceptions in a try block.\n",
        "## **finally:** Executes code after try and except blocks, regardless of whether an exception was raised or not.\n",
        "## **for**: Used to create a for loop.\n",
        "## **from**: Imports specific parts of a module.\n",
        "## **global**: Declares a global variable.\n",
        "## **if**: Used to create a conditional statement.\n",
        "## **import**: Imports a module.\n",
        "## in: Checks if a value is present in a sequence (like a list, tuple, string, etc.).\n",
        "## **is**: Tests object identity.\n",
        "## **lambda**: Creates an anonymous function.\n",
        "## **nonlocal**: Declares a non-local variable.\n",
        "## **not**: Logical operator that returns true if the operand is false.\n",
        "## **or**: Logical operator that returns true if at least one operand is true.\n",
        "## **pass**: Does nothing, can be used as a placeholder.\n",
        "## raise: Raises an exception.\n",
        "## **return**: Exits a function and returns a value.\n",
        "## **try**: Specifies a block of code to test for errors.\n",
        "## **while**: Creates a while loop.\n",
        "## **with**: Simplifies exception handling by encapsulating common preparation and cleanup tasks.\n",
        "## **yield**: Used inside a function like a return statement, but returns a generator."
      ],
      "metadata": {
        "id": "NU3-bHRM7aqn"
      }
    },
    {
      "cell_type": "markdown",
      "source": [
        "# COMMENTS\n",
        "\n",
        " Comments in Python are used to explain the code, make it more readable, and prevent execution of code. They are ignored by the Python interpreter, meaning they do not affect the execution of the program. There are two types of comments in Python: single-line comments and multi-line comments.Using Comments for Documentation\n",
        " Comments can also be used to provide documentation within your code, helping others understand what the code does, why certain decisions were made, or to mark sections of the code.\n",
        "\n",
        "- **Single-Line Comments**:\n",
        "\n",
        "Single-line comments start with a hash character (#) and extend to the end of the line. They are typically used for brief explanations or notes about the code.\n",
        "\n"
      ],
      "metadata": {
        "id": "E28-_OKlzYVL"
      }
    },
    {
      "cell_type": "code",
      "source": [
        "# This is a single-line comment\n",
        "print(\"Hello, World!\")  # This is an inline comment\n"
      ],
      "metadata": {
        "id": "CTsZtDjDzzZs",
        "colab": {
          "base_uri": "https://localhost:8080/"
        },
        "outputId": "0e8eed01-5bd4-4b97-d425-1f36b24b93d9"
      },
      "execution_count": 2,
      "outputs": [
        {
          "output_type": "stream",
          "name": "stdout",
          "text": [
            "Hello, World!\n"
          ]
        }
      ]
    },
    {
      "cell_type": "markdown",
      "source": [
        "- **Multi-Line Comments**:\n",
        "\n",
        "Python does not have a specific syntax for multi-line comments like some other programming languages (e.g., /* ... */ in C/C++). Instead, multi-line comments are created by using multiple single-line comments or triple-quoted strings (which can also be used as docstrings, although docstrings are usually used to document functions, classes, and modules)."
      ],
      "metadata": {
        "id": "4E72vYQiz4PV"
      }
    },
    {
      "cell_type": "code",
      "source": [
        "# This is a multi-line comment\n",
        "# written using multiple\n",
        "# single-line comments\n",
        "print(\"Hello, World!\")\n"
      ],
      "metadata": {
        "id": "64HyE4FZ0KyX",
        "colab": {
          "base_uri": "https://localhost:8080/"
        },
        "outputId": "09636f79-1126-40d3-9fed-8e1a9602aede"
      },
      "execution_count": 3,
      "outputs": [
        {
          "output_type": "stream",
          "name": "stdout",
          "text": [
            "Hello, World!\n"
          ]
        }
      ]
    },
    {
      "cell_type": "markdown",
      "source": [
        "- **Using Triple-Quoted Strings**:\n",
        "\n",
        "Triple-quoted strings (either ''' ... ''' or \"\"\" ... \"\"\") can be used to create multi-line comments. However, their primary use is for docstrings to document functions, classes, and modules."
      ],
      "metadata": {
        "id": "-ZHPt2KM0L-6"
      }
    },
    {
      "cell_type": "code",
      "source": [
        "\"\"\"\n",
        "This is a multi-line comment.\n",
        "It spans multiple lines.\n",
        "Using triple-quoted strings.\n",
        "\"\"\"\n",
        "print(\"Hello, World!\")\n"
      ],
      "metadata": {
        "id": "GIVLdJme0W6-",
        "colab": {
          "base_uri": "https://localhost:8080/"
        },
        "outputId": "6c8c397f-b509-4c37-cf26-3b535df91c8d"
      },
      "execution_count": 4,
      "outputs": [
        {
          "output_type": "stream",
          "name": "stdout",
          "text": [
            "Hello, World!\n"
          ]
        }
      ]
    },
    {
      "cell_type": "markdown",
      "source": [
        "# Python Data Types\n",
        "- NUMERICAL\n",
        "- SEQUENCE\n",
        "- MAPPING\n",
        "- SET\n",
        "- BOOLEAN\n",
        "-BINARY\n",
        "-TEXT\n",
        "\n",
        "\n",
        "## NUMERICAL:\n",
        "### INTEGER\n",
        " Python has three main numerical data types: Integer, Float, and Complex.\n",
        "\n"
      ],
      "metadata": {
        "id": "ilSVaL1l11Ph"
      }
    },
    {
      "cell_type": "code",
      "source": [
        "age = 25\n",
        "temperature = -5\n",
        "count = 0\n",
        "print(age, temperature, count)  # Output: 25 -5 0\n",
        "print(type(age))\n"
      ],
      "metadata": {
        "colab": {
          "base_uri": "https://localhost:8080/"
        },
        "id": "sLrl9vGg2t7I",
        "outputId": "07fc3285-9ac6-4aa5-9813-04b4040774ab"
      },
      "execution_count": 5,
      "outputs": [
        {
          "output_type": "stream",
          "name": "stdout",
          "text": [
            "25 -5 0\n",
            "<class 'int'>\n"
          ]
        }
      ]
    },
    {
      "cell_type": "markdown",
      "source": [
        "### FLOAT\n",
        "A float is a number that includes a decimal point. It represents real numbers and is used for precise calculations."
      ],
      "metadata": {
        "id": "BlUIyWPz2vbD"
      }
    },
    {
      "cell_type": "code",
      "source": [
        "height = 5.9\n",
        "pi = 3.14159\n",
        "weight = 70.5\n",
        "print(height, pi, weight)  # Output: 5.9 3.14159 70.5\n"
      ],
      "metadata": {
        "colab": {
          "base_uri": "https://localhost:8080/"
        },
        "id": "L7ZfVatR3j-u",
        "outputId": "eb255185-abfc-42de-b2af-909d08fe698e"
      },
      "execution_count": 6,
      "outputs": [
        {
          "output_type": "stream",
          "name": "stdout",
          "text": [
            "5.9 3.14159 70.5\n"
          ]
        }
      ]
    },
    {
      "cell_type": "markdown",
      "source": [
        "### Complex\n",
        "A complex number consists of a real part and an imaginary part, represented as a + bj, where a is the real part and b is the imaginary part."
      ],
      "metadata": {
        "id": "aMNNmcC53mkJ"
      }
    },
    {
      "cell_type": "code",
      "source": [
        "complex_number1 = 2 + 3j\n",
        "complex_number2 = 1 - 4j\n",
        "print(complex_number1, complex_number2)  # Output: (2+3j) (1-4j)\n"
      ],
      "metadata": {
        "colab": {
          "base_uri": "https://localhost:8080/"
        },
        "id": "Ut3dpzQY3wRD",
        "outputId": "8abf921f-5147-4b1a-eff7-ffb6b42bfa01"
      },
      "execution_count": 7,
      "outputs": [
        {
          "output_type": "stream",
          "name": "stdout",
          "text": [
            "(2+3j) (1-4j)\n"
          ]
        }
      ]
    },
    {
      "cell_type": "markdown",
      "source": [
        "## MAPPING:\n",
        "In Python, the primary mapping data type is the dictionary. A dictionary is an unordered collection of key-value pairs. Each key-value pair maps the key to its associated value. Keys in a dictionary must be unique and immutable (e.g., strings, numbers, tuples), whereas values can be of any type and can be duplicated.\n",
        "### Dictionary\n",
        "Creating a Dictionary\n",
        "You can create a dictionary using curly braces {} or the dict() function.\n",
        "\n",
        "\n",
        "Some useful dictionary methods include:\n",
        "- keys(): Returns a view object containing the keys of the dictionary.\n",
        "- values(): Returns a view object containing the values of the dictionary.\n",
        "- items(): Returns a view object containing the key-value pairs of the dictionary."
      ],
      "metadata": {
        "id": "FM_lNDJi36Gh"
      }
    },
    {
      "cell_type": "code",
      "source": [
        "# Using curly braces\n",
        "person = {\n",
        "    \"name\": \"Alice\",\n",
        "    \"age\": 30,\n",
        "    \"city\": \"New York\"\n",
        "}\n",
        "\n",
        "# Using the dict() function\n",
        "person = dict(name=\"Alice\", age=30, city=\"New York\")\n"
      ],
      "metadata": {
        "id": "Fjh1xEIN4NH7"
      },
      "execution_count": 8,
      "outputs": []
    },
    {
      "cell_type": "markdown",
      "source": [
        "# SEQUENCE\n",
        "In Python, sequence data types are used to store collections of items in a specific order. The main sequence data types in Python are:\n",
        "\n",
        "- List\n",
        "- Tuple\n",
        "- Range\n",
        "\n",
        "##1. List\n",
        "\n",
        "  A list is an ordered, mutable collection of items. Lists can contain items of different data types.\n"
      ],
      "metadata": {
        "id": "pBJliaVc4X_M"
      }
    },
    {
      "cell_type": "code",
      "source": [
        "fruits = [\"apple\", \"banana\", \"cherry\"]\n",
        "numbers = [1, 2, 3, 4, 5]\n",
        "mixed = [1, \"hello\", 3.14, True]\n"
      ],
      "metadata": {
        "id": "w74WEveZ5O1t"
      },
      "execution_count": 9,
      "outputs": []
    },
    {
      "cell_type": "markdown",
      "source": [
        "## 2. Tuple\n",
        "\n",
        "  A tuple is an ordered, immutable collection of items. Once a tuple is created, you cannot change its values."
      ],
      "metadata": {
        "id": "wWEXKfMI5QKm"
      }
    },
    {
      "cell_type": "code",
      "source": [
        "colors = (\"red\", \"green\", \"blue\")\n",
        "coordinates = (10.0, 20.0)\n"
      ],
      "metadata": {
        "id": "gLt-_nrC5gUW"
      },
      "execution_count": 10,
      "outputs": []
    },
    {
      "cell_type": "markdown",
      "source": [
        "## 3. Range:\n",
        "\n",
        "  A range represents an immutable sequence of numbers and is often used for looping a specific number of times in for loops."
      ],
      "metadata": {
        "id": "6k6lZboD5mY1"
      }
    },
    {
      "cell_type": "code",
      "source": [
        "for i in range(5):\n",
        "    print(i)  # Output: 0 1 2 3 4\n"
      ],
      "metadata": {
        "id": "vx2vkh0E5yg9",
        "colab": {
          "base_uri": "https://localhost:8080/"
        },
        "outputId": "ddc9dc2e-5b15-42df-9a0c-1324f5827919"
      },
      "execution_count": 11,
      "outputs": [
        {
          "output_type": "stream",
          "name": "stdout",
          "text": [
            "0\n",
            "1\n",
            "2\n",
            "3\n",
            "4\n"
          ]
        }
      ]
    },
    {
      "cell_type": "markdown",
      "source": [
        "List: Mutable, ordered collection of items.\n",
        "\n",
        "\n",
        "Tuple: Immutable, ordered collection of items.\n",
        "\n",
        "\n",
        "Range: Immutable sequence of numbers, often used in loops.\n",
        "\n",
        "\n",
        "String: Immutable sequence of characters, used to store text."
      ],
      "metadata": {
        "id": "N_-ZQ3Hi56yS"
      }
    },
    {
      "cell_type": "markdown",
      "source": [
        "## BOOLEAN\n",
        "In Python, the Boolean data type is used to represent one of two values: True or False. Booleans are commonly used in conditional statements and control flow to determine the truthiness of an expression or variable."
      ],
      "metadata": {
        "id": "txZOw4HQ6JXc"
      }
    },
    {
      "cell_type": "code",
      "source": [
        "is_sunny = True\n",
        "is_raining = False\n",
        "print(is_sunny)  # Output: True\n",
        "print(is_raining)  # Output: False\n"
      ],
      "metadata": {
        "id": "r_nRewH3-HMt",
        "colab": {
          "base_uri": "https://localhost:8080/"
        },
        "outputId": "088eefec-6eaf-4381-8776-e03f48561189"
      },
      "execution_count": 12,
      "outputs": [
        {
          "output_type": "stream",
          "name": "stdout",
          "text": [
            "True\n",
            "False\n"
          ]
        }
      ]
    },
    {
      "cell_type": "markdown",
      "source": [
        "# BINARY\n",
        "In Python, binary data types are used to handle binary data, which is typically non-textual and consists of bytes. The main binary data types in Python are:\n",
        "\n",
        "- bytes\n",
        "- bytearray\n",
        "- memoryview"
      ],
      "metadata": {
        "id": "EzkbccPq-eWM"
      }
    },
    {
      "cell_type": "code",
      "source": [
        "b = b'Hello, World!'\n",
        "print(b[0])    # Output: 72 (ASCII value of 'H')\n",
        "print(b[1:5])  # Output: b'ello'\n"
      ],
      "metadata": {
        "id": "Zurp11n5-_cQ",
        "colab": {
          "base_uri": "https://localhost:8080/"
        },
        "outputId": "a494db43-2543-498a-a832-2c8af3f90eb1"
      },
      "execution_count": 13,
      "outputs": [
        {
          "output_type": "stream",
          "name": "stdout",
          "text": [
            "72\n",
            "b'ello'\n"
          ]
        }
      ]
    },
    {
      "cell_type": "markdown",
      "source": [
        "# SET\n",
        "In Python, sets are unordered collections of unique elements.\n",
        "\n",
        "There are two main set types:\n",
        "- set\n",
        "- frozenset.\n",
        "\n",
        "## 1. set\n",
        "A set is a mutable, unordered collection of unique elements. Sets are useful for membership testing, removing duplicates from a sequence, and mathematical operations like union, intersection, difference, and symmetric difference."
      ],
      "metadata": {
        "id": "_QFbxWBH_FEm"
      }
    },
    {
      "cell_type": "code",
      "source": [
        "# Using curly braces\n",
        "fruits = {\"apple\", \"banana\", \"cherry\"}\n",
        "print(fruits)  # Output: {'apple', 'banana', 'cherry'}\n",
        "\n",
        "# Using the set() constructor\n",
        "numbers = set([1, 2, 3, 4, 4, 2])\n",
        "print(numbers)  # Output: {1, 2, 3, 4}\n"
      ],
      "metadata": {
        "id": "L2AVcavl_aVt",
        "colab": {
          "base_uri": "https://localhost:8080/"
        },
        "outputId": "9c3e33ee-fdb3-49b2-fccc-e060a49b566d"
      },
      "execution_count": 14,
      "outputs": [
        {
          "output_type": "stream",
          "name": "stdout",
          "text": [
            "{'banana', 'apple', 'cherry'}\n",
            "{1, 2, 3, 4}\n"
          ]
        }
      ]
    },
    {
      "cell_type": "markdown",
      "source": [
        "##2. frozenset\n",
        "  \n",
        "  \n",
        "  A frozenset is an immutable version of a set. Once created, elements cannot be added or removed from a frozenset. It is useful when you need a set that should not change."
      ],
      "metadata": {
        "id": "CdKbPrxF_egq"
      }
    },
    {
      "cell_type": "code",
      "source": [
        "# Using frozenset() constructor\n",
        "immutable_fruits = frozenset([\"apple\", \"banana\", \"cherry\"])\n",
        "print(immutable_fruits)  # Output: frozenset({'apple', 'banana', 'cherry'})\n"
      ],
      "metadata": {
        "id": "KpcaoQRW_6-s",
        "colab": {
          "base_uri": "https://localhost:8080/"
        },
        "outputId": "96b3655b-5998-4fe8-d8d1-f756b0208993"
      },
      "execution_count": 15,
      "outputs": [
        {
          "output_type": "stream",
          "name": "stdout",
          "text": [
            "frozenset({'banana', 'apple', 'cherry'})\n"
          ]
        }
      ]
    },
    {
      "cell_type": "markdown",
      "source": [
        "# OPERATORS\n",
        "Python has a variety of operators that are used to perform operations on variables and values\n",
        "\n",
        "- Arithmetic\n",
        "- Assignment\n",
        "- Comparison\n",
        "- Logic\n",
        "- Identity\n",
        "- Membership\n",
        "- Bitwise"
      ],
      "metadata": {
        "id": "bucngWGsAKnv"
      }
    },
    {
      "cell_type": "markdown",
      "source": [
        "##1. Arithmetic Operators:\n",
        "These operators are used to perform mathematical operations.\n",
        "\n",
        "Addition\n",
        "\n",
        "\n",
        "Subtraction\n",
        "\n",
        "\n",
        "Multiplication\n",
        "\n",
        "\n",
        "Division\n",
        "\n",
        "\n",
        "Modulus\n",
        "\n",
        "Exponentiation\n",
        "\n",
        "Floor Division"
      ],
      "metadata": {
        "id": "rY1aw7cBAr-y"
      }
    },
    {
      "cell_type": "code",
      "source": [
        "a = 10\n",
        "b = 3\n",
        "\n",
        "print(a + b)   # Output: 13\n",
        "print(a - b)   # Output: 7\n",
        "print(a * b)   # Output: 30\n",
        "print(a / b)   # Output: 3.3333333333333335\n",
        "print(a % b)   # Output: 1\n",
        "print(a ** b)  # Output: 1000\n",
        "print(a // b)  # Output: 3\n"
      ],
      "metadata": {
        "id": "vAfIxNnrBPB5",
        "colab": {
          "base_uri": "https://localhost:8080/"
        },
        "outputId": "35bc5a23-eaf4-4f60-da21-83d7eba4a4ba"
      },
      "execution_count": 16,
      "outputs": [
        {
          "output_type": "stream",
          "name": "stdout",
          "text": [
            "13\n",
            "7\n",
            "30\n",
            "3.3333333333333335\n",
            "1\n",
            "1000\n",
            "3\n"
          ]
        }
      ]
    },
    {
      "cell_type": "markdown",
      "source": [
        "## 2. Comparison Operators:\n",
        "These operators are used to compare two values and return a Boolean result.\n",
        "\n",
        "== : Equal to\n",
        "\n",
        "\n",
        "!= : Not equal to\n",
        "\n",
        "\n",
        "(> ): Greater than\n",
        "\n",
        "\n",
        "< : Less than\n",
        "\n",
        "\n",
        "(>=): Greater than or equal to\n",
        "\n",
        "\n",
        "<= : Less than or equal to"
      ],
      "metadata": {
        "id": "Okd76qSBBS7J"
      }
    },
    {
      "cell_type": "code",
      "source": [
        "a = 10\n",
        "b = 3\n",
        "\n",
        "print(a == b)  # Output: False\n",
        "print(a != b)  # Output: True\n",
        "print(a > b)   # Output: True\n",
        "print(a < b)   # Output: False\n",
        "print(a >= b)  # Output: True\n",
        "print(a <= b)  # Output: False\n"
      ],
      "metadata": {
        "id": "GAlbRBO_BnOp",
        "colab": {
          "base_uri": "https://localhost:8080/"
        },
        "outputId": "72bd0334-6092-45b5-d244-32374e9ef160"
      },
      "execution_count": 17,
      "outputs": [
        {
          "output_type": "stream",
          "name": "stdout",
          "text": [
            "False\n",
            "True\n",
            "True\n",
            "False\n",
            "True\n",
            "False\n"
          ]
        }
      ]
    },
    {
      "cell_type": "markdown",
      "source": [
        " ##3. Logical Operators:\n",
        "These operators are used to perform logical operations and return a Boolean result.\n",
        "\n",
        "and : Returns True if both statements are true\n",
        "\n",
        "\n",
        "or : Returns True if one of the statements is true\n",
        "\n",
        "\n",
        "not : Reverses the result, returns False if the result is true"
      ],
      "metadata": {
        "id": "m7oqLrVrBtTO"
      }
    },
    {
      "cell_type": "code",
      "source": [
        "x = True\n",
        "y = False\n",
        "\n",
        "print(x and y)  # Output: False\n",
        "print(x or y)   # Output: True\n",
        "print(not x)    # Output: False\n"
      ],
      "metadata": {
        "id": "9lQyiv4oBshd",
        "colab": {
          "base_uri": "https://localhost:8080/"
        },
        "outputId": "12a8be56-3e0a-47e1-9f6c-3406987f69c9"
      },
      "execution_count": 18,
      "outputs": [
        {
          "output_type": "stream",
          "name": "stdout",
          "text": [
            "False\n",
            "True\n",
            "False\n"
          ]
        }
      ]
    },
    {
      "cell_type": "markdown",
      "source": [
        "## 4. Bitwise Operators:\n",
        "These operators are used to perform bit-level operations on integers.\n",
        "\n",
        "& : AND\n",
        "\n",
        "\n",
        "| : OR\n",
        "\n",
        "\n",
        "^ : XOR\n",
        "\n",
        "\n",
        "~ : NOT\n",
        "\n",
        "\n",
        "<< : Zero fill left shift\n",
        "\n",
        "\n",
        "(>>) : Signed right shift"
      ],
      "metadata": {
        "id": "qLGaydHdByza"
      }
    },
    {
      "cell_type": "code",
      "source": [
        "a = 10  # 1010 in binary\n",
        "b = 4   # 0100 in binary\n",
        "\n",
        "print(a & b)  # Output: 0\n",
        "print(a | b)  # Output: 14\n",
        "print(a ^ b)  # Output: 14\n",
        "print(~a)     # Output: -11\n",
        "print(a << 1) # Output: 20\n",
        "print(a >> 1) # Output: 5\n"
      ],
      "metadata": {
        "id": "RcOt2YYHB91d",
        "colab": {
          "base_uri": "https://localhost:8080/"
        },
        "outputId": "592f743e-342e-4192-d8be-30cdc0ac5e2e"
      },
      "execution_count": 19,
      "outputs": [
        {
          "output_type": "stream",
          "name": "stdout",
          "text": [
            "0\n",
            "14\n",
            "14\n",
            "-11\n",
            "20\n",
            "5\n"
          ]
        }
      ]
    },
    {
      "cell_type": "markdown",
      "source": [
        "## 5. Assignment Operators:\n",
        "These operators are used to assign values to variables.\n",
        "\n",
        "= : Assign\n",
        "\n",
        "\n",
        "+= : Add and assign\n",
        "\n",
        "\n",
        "-= : Subtract and assign\n",
        "\n",
        "\n",
        "*= : Multiply and assign\n",
        "\n",
        "\n",
        "/= : Divide and assign\n",
        "\n",
        "\n",
        "%= : Modulus and assign\n",
        "\n",
        "\n",
        "**= : Exponentiation and assign\n",
        "\n",
        "\n",
        "//= : Floor division and assign"
      ],
      "metadata": {
        "id": "8RkxolUSCBm3"
      }
    },
    {
      "cell_type": "code",
      "source": [
        "a = 10\n",
        "a += 3  # Equivalent to a = a + 3\n",
        "print(a)  # Output: 13\n",
        "\n",
        "a -= 2  # Equivalent to a = a - 2\n",
        "print(a)  # Output: 11\n",
        "\n",
        "a *= 2  # Equivalent to a = a * 2\n",
        "print(a)  # Output: 22\n",
        "\n",
        "a /= 4  # Equivalent to a = a / 4\n",
        "print(a)  # Output: 5.5\n",
        "\n",
        "a %= 3  # Equivalent to a = a % 3\n",
        "print(a)  # Output: 2.5\n",
        "\n",
        "a **= 2  # Equivalent to a = a ** 2\n",
        "print(a)  # Output: 6.25\n",
        "\n",
        "a //= 2  # Equivalent to a = a // 2\n",
        "print(a)  # Output: 3.0"
      ],
      "metadata": {
        "id": "9vnWPLOBCIwD",
        "outputId": "2db955e5-b84b-4804-f49b-324742a88904",
        "colab": {
          "base_uri": "https://localhost:8080/"
        }
      },
      "execution_count": 20,
      "outputs": [
        {
          "output_type": "stream",
          "name": "stdout",
          "text": [
            "13\n",
            "11\n",
            "22\n",
            "5.5\n",
            "2.5\n",
            "6.25\n",
            "3.0\n"
          ]
        }
      ]
    },
    {
      "cell_type": "markdown",
      "source": [
        "## 6.membership Operators:\n",
        "These operators are used to test if a sequence contains a value.\n",
        "\n",
        "in : Returns True if a sequence with the specified value is present in the object\n",
        "\n",
        "\n",
        "not in : Returns True if a sequence with the specified value is not present in the object"
      ],
      "metadata": {
        "id": "zTRQ_T6pCM8o"
      }
    },
    {
      "cell_type": "code",
      "source": [
        "x = [\"apple\", \"banana\", \"cherry\"]\n",
        "\n",
        "print(\"banana\" in x)  # Output: True\n",
        "print(\"mango\" not in x)  # Output: True"
      ],
      "metadata": {
        "id": "CdLScyKFCSEY",
        "outputId": "41f9f10f-49e2-4567-9330-3fc4252df823",
        "colab": {
          "base_uri": "https://localhost:8080/"
        }
      },
      "execution_count": 21,
      "outputs": [
        {
          "output_type": "stream",
          "name": "stdout",
          "text": [
            "True\n",
            "True\n"
          ]
        }
      ]
    },
    {
      "cell_type": "markdown",
      "source": [
        "## 7. Identity Operators:\n",
        "These operators are used to compare the memory locations of two objects.\n",
        "\n",
        "is : Returns True if both variables are the same object\n",
        "\n",
        "\n",
        "is not : Returns True if both variables are not the same object"
      ],
      "metadata": {
        "id": "vbujxiCDCWD1"
      }
    },
    {
      "cell_type": "code",
      "source": [
        "x = [\"apple\", \"banana\", \"cherry\"]\n",
        "y = [\"apple\", \"banana\", \"cherry\"]\n",
        "z = x\n",
        "\n",
        "print(x is z)  # Output: True\n",
        "print(x is y)  # Output: False\n",
        "print(x == y)  # Output: True\n",
        "print(x is not y)  # Output: True\n",
        "print(x is not z)  # Output: False\n"
      ],
      "metadata": {
        "id": "4XBALQF5CZ7h",
        "colab": {
          "base_uri": "https://localhost:8080/"
        },
        "outputId": "6116bfea-f32a-4126-bd69-4ef02d0db3ec"
      },
      "execution_count": 22,
      "outputs": [
        {
          "output_type": "stream",
          "name": "stdout",
          "text": [
            "True\n",
            "False\n",
            "True\n",
            "True\n",
            "False\n"
          ]
        }
      ]
    },
    {
      "cell_type": "markdown",
      "source": [
        "# CONDITIONS"
      ],
      "metadata": {
        "id": "ECcrh9zaDLq2"
      }
    },
    {
      "cell_type": "markdown",
      "source": [
        "In Python, conditions are used to execute code based on whether certain criteria are met. This is typically done using if, elif, and else statements. You can also use conditional expressions and ternary operators for concise conditional logic. Here’s a comprehensive overview of different types of conditional constructs in Python:"
      ],
      "metadata": {
        "id": "O8Ul4vRDDOho"
      }
    },
    {
      "cell_type": "markdown",
      "source": [
        "## 1. if Statement:\n",
        "\n",
        "  The if statement evaluates a condition and executes the block of code if the condition is True."
      ],
      "metadata": {
        "id": "kikke7zADWZX"
      }
    },
    {
      "cell_type": "code",
      "source": [
        "x = 10\n",
        "\n",
        "if x > 5:\n",
        "    print(\"x is greater than 5\")\n"
      ],
      "metadata": {
        "id": "bmu7LemjDhsQ",
        "colab": {
          "base_uri": "https://localhost:8080/"
        },
        "outputId": "6d9fd98f-6aa3-4e6d-9688-17a4f33a280d"
      },
      "execution_count": 23,
      "outputs": [
        {
          "output_type": "stream",
          "name": "stdout",
          "text": [
            "x is greater than 5\n"
          ]
        }
      ]
    },
    {
      "cell_type": "markdown",
      "source": [
        "## 2. if-else Statement:\n",
        "\n",
        "  The if-else statement provides an alternative block of code to execute if the condition is False."
      ],
      "metadata": {
        "id": "9qs4nQqoDmop"
      }
    },
    {
      "cell_type": "code",
      "source": [
        "x = 4\n",
        "\n",
        "if x > 5:\n",
        "    print(\"x is greater than 5\")\n",
        "else:\n",
        "    print(\"x is not greater than 5\")\n"
      ],
      "metadata": {
        "id": "KSfdGEnODmSI",
        "colab": {
          "base_uri": "https://localhost:8080/"
        },
        "outputId": "9731e7c0-3e90-4374-bf97-3b3442d114ad"
      },
      "execution_count": 24,
      "outputs": [
        {
          "output_type": "stream",
          "name": "stdout",
          "text": [
            "x is not greater than 5\n"
          ]
        }
      ]
    },
    {
      "cell_type": "markdown",
      "source": [
        "## 3. if-elif-else Statement:\n",
        "\n",
        "  The if-elif-else statement allows you to check multiple conditions. It executes the block of code for the first condition that is True. If none of the conditions are True, it executes the else block."
      ],
      "metadata": {
        "id": "s6YuwL--D3aR"
      }
    },
    {
      "cell_type": "code",
      "source": [
        "x = 7\n",
        "\n",
        "if x > 10:\n",
        "    print(\"x is greater than 10\")\n",
        "elif x == 7:\n",
        "    print(\"x is 7\")\n",
        "else:\n",
        "    print(\"x is less than 10 and not 7\")\n"
      ],
      "metadata": {
        "id": "UtetddW-D-Mn",
        "colab": {
          "base_uri": "https://localhost:8080/"
        },
        "outputId": "8e4d000c-15ee-423c-888d-c6283c9c294b"
      },
      "execution_count": 25,
      "outputs": [
        {
          "output_type": "stream",
          "name": "stdout",
          "text": [
            "x is 7\n"
          ]
        }
      ]
    },
    {
      "cell_type": "markdown",
      "source": [
        "## 4. Nested if Statements:\n",
        "\n",
        "  You can nest if statements within another if statement to check multiple conditions."
      ],
      "metadata": {
        "id": "NxXs5gVxEB4x"
      }
    },
    {
      "cell_type": "code",
      "source": [
        "x = 15\n",
        "y = 10\n",
        "\n",
        "if x > 10:\n",
        "    if y > 5:\n",
        "        print(\"x is greater than 10 and y is greater than 5\")\n",
        "    else:\n",
        "        print(\"x is greater than 10 but y is not greater than 5\")\n",
        "else:\n",
        "    print(\"x is not greater than 10\")\n"
      ],
      "metadata": {
        "colab": {
          "base_uri": "https://localhost:8080/"
        },
        "id": "aJ6wlh01EGYp",
        "outputId": "0e3aaf20-2421-42d5-b081-3c1a11c12df3"
      },
      "execution_count": 26,
      "outputs": [
        {
          "output_type": "stream",
          "name": "stdout",
          "text": [
            "x is greater than 10 and y is greater than 5\n"
          ]
        }
      ]
    },
    {
      "cell_type": "markdown",
      "source": [
        "**Summary:**\n",
        "\n",
        "\n",
        "- if Statement: Executes a block of code if the condition is True.\n",
        "- if-else Statement: Provides an alternative block of code if the condition is False.\n",
        "- if-elif-else Statement: Checks multiple conditions in sequence.\n",
        "- Nested if Statements: Used to check multiple conditions within each other."
      ],
      "metadata": {
        "id": "rD_GBP4FEShG"
      }
    },
    {
      "cell_type": "markdown",
      "source": [
        "## 5. Conditional Expressions (Ternary Operator)"
      ],
      "metadata": {
        "id": "9r15B2MFLtZd"
      }
    },
    {
      "cell_type": "markdown",
      "source": [
        "### Conditional expressions allow you to evaluate conditions in a single line. This is useful for simple conditional assignments."
      ],
      "metadata": {
        "id": "o70unkN5L3TD"
      }
    },
    {
      "cell_type": "code",
      "source": [
        "x = 6\n",
        "result = \"x is add\" if x % 2 == 0 else \"x is odd\"\n",
        "print(result)  # Output: x is odd"
      ],
      "metadata": {
        "colab": {
          "base_uri": "https://localhost:8080/"
        },
        "id": "Xe9d8EPSLkyI",
        "outputId": "fbf6f609-48f7-4171-88e2-5f081bf1a2f3"
      },
      "execution_count": 27,
      "outputs": [
        {
          "output_type": "stream",
          "name": "stdout",
          "text": [
            "x is add\n"
          ]
        }
      ]
    },
    {
      "cell_type": "markdown",
      "source": [
        "# LOOPS"
      ],
      "metadata": {
        "id": "quDhLoJ295Qz"
      }
    },
    {
      "cell_type": "markdown",
      "source": [
        "### In Python, loops are used to execute a block of code repeatedly until a certain condition is met. There are two primary types of loops in Python: for loops and while loops. Each has its specific use cases and syntax.\n",
        "\n",
        "- for loop\n",
        "- while loop"
      ],
      "metadata": {
        "id": "hLbdo1gR-EkC"
      }
    },
    {
      "cell_type": "markdown",
      "source": [
        "**for loop**\n",
        "\n",
        "### A for loop is used to iterate over a sequence (such as a list, tuple, string, or range) and execute a block of code for each element in the sequence."
      ],
      "metadata": {
        "id": "Cb4O4vdE-mAv"
      }
    },
    {
      "cell_type": "markdown",
      "source": [
        "## Syntax\n",
        "### for i in range():\n"
      ],
      "metadata": {
        "id": "_bM_C9pV-w3h"
      }
    },
    {
      "cell_type": "markdown",
      "source": [
        "Using range() to generate a sequence of numbers\n"
      ],
      "metadata": {
        "id": "x6Cf-_Cj_ML3"
      }
    },
    {
      "cell_type": "code",
      "source": [
        "for i in range(5):\n",
        "    print(i)"
      ],
      "metadata": {
        "id": "3Ide9hYpAe2_",
        "colab": {
          "base_uri": "https://localhost:8080/"
        },
        "outputId": "9c282201-2595-4556-b685-20e6a6b3d1a8"
      },
      "execution_count": 28,
      "outputs": [
        {
          "output_type": "stream",
          "name": "stdout",
          "text": [
            "0\n",
            "1\n",
            "2\n",
            "3\n",
            "4\n"
          ]
        }
      ]
    },
    {
      "cell_type": "markdown",
      "source": [
        "## while loop\n",
        "\n",
        "A while loop repeatedly executes a block of code as long as a given condition is true."
      ],
      "metadata": {
        "id": "95jS8bQz_fQA"
      }
    },
    {
      "cell_type": "markdown",
      "source": [
        "## syntax\n",
        "\n",
        "### while condition:\n",
        "\n"
      ],
      "metadata": {
        "id": "B32TJcEO_oU6"
      }
    },
    {
      "cell_type": "code",
      "source": [
        "count = 0 #initilizing value\n",
        "while count < 5:\n",
        "    print(count)\n",
        "    count += 1  #increment"
      ],
      "metadata": {
        "colab": {
          "base_uri": "https://localhost:8080/"
        },
        "id": "wrdpf4lE_1Ph",
        "outputId": "24984e40-e2ef-4144-901c-98d46fff71db"
      },
      "execution_count": 29,
      "outputs": [
        {
          "output_type": "stream",
          "name": "stdout",
          "text": [
            "0\n",
            "1\n",
            "2\n",
            "3\n",
            "4\n"
          ]
        }
      ]
    },
    {
      "cell_type": "markdown",
      "source": [
        "# Functions\n"
      ],
      "metadata": {
        "id": "ckwXKHbeUtUm"
      }
    },
    {
      "cell_type": "markdown",
      "source": [
        "###In Python, you define functions using the def keyword followed by the function name, parentheses, and a colon. The body of the function is indented"
      ],
      "metadata": {
        "id": "TdsLMmYGUr93"
      }
    },
    {
      "cell_type": "markdown",
      "source": [
        "### syntax\n",
        "#### def function_name(parameters):\n",
        "\n",
        "     <!-- Function body\n",
        "\n",
        "     Optional return statement -->\n"
      ],
      "metadata": {
        "id": "BktIxM4aU3Go"
      }
    },
    {
      "cell_type": "code",
      "source": [
        "def greet():\n",
        "    print(\"Hello, world!\")\n",
        "\n",
        "greet()  # Output: Hello, world!\n"
      ],
      "metadata": {
        "id": "xwumw6oSVTqq",
        "colab": {
          "base_uri": "https://localhost:8080/"
        },
        "outputId": "8200df20-27ad-43b8-c6c4-703dc75126c4"
      },
      "execution_count": 30,
      "outputs": [
        {
          "output_type": "stream",
          "name": "stdout",
          "text": [
            "Hello, world!\n"
          ]
        }
      ]
    },
    {
      "cell_type": "code",
      "source": [
        "def add(a, b):\n",
        "    return a + b\n",
        "\n",
        "result = add(3, 5)\n",
        "print(result)  # Output: 8\n"
      ],
      "metadata": {
        "id": "7jLlvds5VWlt",
        "colab": {
          "base_uri": "https://localhost:8080/"
        },
        "outputId": "b404b15c-24ae-4c0f-e845-8451e6435788"
      },
      "execution_count": 31,
      "outputs": [
        {
          "output_type": "stream",
          "name": "stdout",
          "text": [
            "8\n"
          ]
        }
      ]
    },
    {
      "cell_type": "markdown",
      "source": [
        "# List Methods"
      ],
      "metadata": {
        "id": "IlWTbHiqrZTA"
      }
    },
    {
      "cell_type": "markdown",
      "source": [
        "\n",
        "append()-Adds an element at the end of the list\n",
        "\n",
        "\n",
        "clear()-Removes all the elements from the list\n",
        "\n",
        "\n",
        "copy()-Returns a copy of the list\n",
        "\n",
        "\n",
        "count()-Returns the number of elements with the specified value\n",
        "\n",
        "\n",
        "extend()-Add the elements of a list (or any iterable), to the end of the current list\n",
        "\n",
        "\n",
        "index()-Returns the index of the first element with the specified value\n",
        "\n",
        "\n",
        "insert()-Adds an element at the specified position\n",
        "\n",
        "pop()-Removes the element at the specified position\n",
        "\n",
        "remove()-Removes the item with the specified value\n",
        "\n",
        "reverse()-Reverses the order of the list\n",
        "\n",
        "sort()-Sorts the list\n",
        "\n",
        "len()-Returns the number of elements in the list."
      ],
      "metadata": {
        "id": "MfSuDTQzrehN"
      }
    },
    {
      "cell_type": "markdown",
      "source": [
        "## append"
      ],
      "metadata": {
        "id": "chiIPTFbspeF"
      }
    },
    {
      "cell_type": "code",
      "source": [
        "my_list = [1, 2, 3]\n",
        "my_list.append(4)\n",
        "print(my_list)  # Output: [1, 2, 3, 4]\n"
      ],
      "metadata": {
        "id": "6Kk928qystYQ",
        "colab": {
          "base_uri": "https://localhost:8080/"
        },
        "outputId": "2d5e83f4-4d40-4f95-9bc3-40ac151a5df7"
      },
      "execution_count": 32,
      "outputs": [
        {
          "output_type": "stream",
          "name": "stdout",
          "text": [
            "[1, 2, 3, 4]\n"
          ]
        }
      ]
    },
    {
      "cell_type": "markdown",
      "source": [
        "## extend"
      ],
      "metadata": {
        "id": "Vzn3VIdusxG5"
      }
    },
    {
      "cell_type": "code",
      "source": [
        "my_list = [1, 2, 3]\n",
        "my_list.extend([4, 5])\n",
        "print(my_list)  # Output: [1, 2, 3, 4, 5]\n"
      ],
      "metadata": {
        "id": "m9-uThZBs036",
        "colab": {
          "base_uri": "https://localhost:8080/"
        },
        "outputId": "81b9f944-262c-4d97-f1da-28cd98485d07"
      },
      "execution_count": 33,
      "outputs": [
        {
          "output_type": "stream",
          "name": "stdout",
          "text": [
            "[1, 2, 3, 4, 5]\n"
          ]
        }
      ]
    },
    {
      "cell_type": "markdown",
      "source": [
        "## insert"
      ],
      "metadata": {
        "id": "JWEfy5B9s7Nd"
      }
    },
    {
      "cell_type": "code",
      "source": [
        "my_list = [1, 2, 3]\n",
        "my_list.insert(1, 'a')\n",
        "print(my_list)  # Output: [1, 'a', 2, 3]\n"
      ],
      "metadata": {
        "id": "KbvZTwuSs9hw",
        "colab": {
          "base_uri": "https://localhost:8080/"
        },
        "outputId": "d812d34d-877f-49f2-8027-104abe1ecf38"
      },
      "execution_count": 34,
      "outputs": [
        {
          "output_type": "stream",
          "name": "stdout",
          "text": [
            "[1, 'a', 2, 3]\n"
          ]
        }
      ]
    },
    {
      "cell_type": "markdown",
      "source": [
        "## remove"
      ],
      "metadata": {
        "id": "q0GTjeugs-sz"
      }
    },
    {
      "cell_type": "code",
      "source": [
        "my_list = [1, 2, 3, 2]\n",
        "my_list.remove(2)\n",
        "print(my_list)  # Output: [1, 3, 2]\n"
      ],
      "metadata": {
        "id": "pzUuHqoGtDKG",
        "colab": {
          "base_uri": "https://localhost:8080/"
        },
        "outputId": "1518a2a2-7875-4fc7-9f9d-e6f44e116e0e"
      },
      "execution_count": 35,
      "outputs": [
        {
          "output_type": "stream",
          "name": "stdout",
          "text": [
            "[1, 3, 2]\n"
          ]
        }
      ]
    },
    {
      "cell_type": "markdown",
      "source": [
        "## pop"
      ],
      "metadata": {
        "id": "ny1yNonotHJ2"
      }
    },
    {
      "cell_type": "code",
      "source": [
        "my_list = [1, 2, 3]\n",
        "element = my_list.pop(1)\n",
        "print(element)  # Output: 2\n",
        "print(my_list)  # Output: [1, 3]\n"
      ],
      "metadata": {
        "id": "zban8zSAtJpr",
        "colab": {
          "base_uri": "https://localhost:8080/"
        },
        "outputId": "5e73df30-e696-40d7-dbd4-35987d5afd3d"
      },
      "execution_count": 36,
      "outputs": [
        {
          "output_type": "stream",
          "name": "stdout",
          "text": [
            "2\n",
            "[1, 3]\n"
          ]
        }
      ]
    },
    {
      "cell_type": "markdown",
      "source": [
        "## clear"
      ],
      "metadata": {
        "id": "J3D0Ux0ltPLc"
      }
    },
    {
      "cell_type": "code",
      "source": [
        "my_list = [1, 2, 3]\n",
        "my_list.clear()\n",
        "print(my_list)  # Output: []\n"
      ],
      "metadata": {
        "id": "ak9XHMMNtRO-",
        "colab": {
          "base_uri": "https://localhost:8080/"
        },
        "outputId": "b614eb5f-bdc7-4445-922d-9d40914fa6d0"
      },
      "execution_count": 37,
      "outputs": [
        {
          "output_type": "stream",
          "name": "stdout",
          "text": [
            "[]\n"
          ]
        }
      ]
    },
    {
      "cell_type": "markdown",
      "source": [
        "## count"
      ],
      "metadata": {
        "id": "bXi5smjotmjv"
      }
    },
    {
      "cell_type": "code",
      "source": [
        "my_list = [1, 2, 3, 2]\n",
        "count = my_list.count(2)\n",
        "print(count)  # Output: 2\n"
      ],
      "metadata": {
        "id": "29FdN4OHtoOG",
        "colab": {
          "base_uri": "https://localhost:8080/"
        },
        "outputId": "117d9c79-7d61-4778-d09d-207703c58b53"
      },
      "execution_count": 38,
      "outputs": [
        {
          "output_type": "stream",
          "name": "stdout",
          "text": [
            "2\n"
          ]
        }
      ]
    },
    {
      "cell_type": "markdown",
      "source": [
        "## sort"
      ],
      "metadata": {
        "id": "wYjWTrX8ttFt"
      }
    },
    {
      "cell_type": "code",
      "source": [
        "my_list = [3, 1, 4, 2]\n",
        "my_list.sort()\n",
        "print(my_list)  # Output: [1, 2, 3, 4]\n",
        "\n",
        "# Sort in reverse order\n",
        "my_list.sort(reverse=True)\n",
        "print(my_list)  # Output: [4, 3, 2, 1]\n"
      ],
      "metadata": {
        "id": "g4PgWUwItvZj",
        "colab": {
          "base_uri": "https://localhost:8080/"
        },
        "outputId": "c2800596-e094-403c-c1aa-462250aec1a4"
      },
      "execution_count": 39,
      "outputs": [
        {
          "output_type": "stream",
          "name": "stdout",
          "text": [
            "[1, 2, 3, 4]\n",
            "[4, 3, 2, 1]\n"
          ]
        }
      ]
    },
    {
      "cell_type": "markdown",
      "source": [
        "## reverse"
      ],
      "metadata": {
        "id": "tzpWg4hstyaL"
      }
    },
    {
      "cell_type": "code",
      "source": [
        "my_list = [1, 2, 3]\n",
        "my_list.reverse()\n",
        "print(my_list)  # Output: [3, 2, 1]\n"
      ],
      "metadata": {
        "id": "6gzDNemct0kK",
        "colab": {
          "base_uri": "https://localhost:8080/"
        },
        "outputId": "d7b7806b-74cb-4eb8-abc4-34418f3f1c3c"
      },
      "execution_count": 40,
      "outputs": [
        {
          "output_type": "stream",
          "name": "stdout",
          "text": [
            "[3, 2, 1]\n"
          ]
        }
      ]
    },
    {
      "cell_type": "markdown",
      "source": [
        "## length"
      ],
      "metadata": {
        "id": "NbqxlS5rvEMq"
      }
    },
    {
      "cell_type": "code",
      "source": [
        "my_list = [1, 2, 3]\n",
        "length=len(my_list)\n",
        "print(length) #output:3"
      ],
      "metadata": {
        "id": "_0Nna5TWvH_z",
        "colab": {
          "base_uri": "https://localhost:8080/"
        },
        "outputId": "a278631b-fdd7-445b-cb22-c5436e257493"
      },
      "execution_count": 41,
      "outputs": [
        {
          "output_type": "stream",
          "name": "stdout",
          "text": [
            "3\n"
          ]
        }
      ]
    },
    {
      "cell_type": "markdown",
      "source": [
        "# Insertion in list"
      ],
      "metadata": {
        "id": "24Whm-MhuVGK"
      }
    },
    {
      "cell_type": "markdown",
      "source": [
        "- append(): Adds an element to the end of the list.\n",
        "- insert(index, element): Inserts an element at a specified index."
      ],
      "metadata": {
        "id": "Qxt5geybueUt"
      }
    },
    {
      "cell_type": "markdown",
      "source": [
        "# Deletion in list"
      ],
      "metadata": {
        "id": "BXhhn9tmuohq"
      }
    },
    {
      "cell_type": "markdown",
      "source": [
        "- remove(element): Removes the first occurrence of a specified element.\n",
        "- pop(index): Removes and returns the element at the specified index (default is the last element).\n",
        "- clear(): Removes all elements from the list."
      ],
      "metadata": {
        "id": "Y81PT8JMusGv"
      }
    },
    {
      "cell_type": "markdown",
      "source": [
        "# set Methods"
      ],
      "metadata": {
        "id": "OAJPjKo9E3iL"
      }
    },
    {
      "cell_type": "markdown",
      "source": [
        "add()- Adds an element to the set.\n",
        "\n",
        "remove()-Removes a specific element from the set. Raises a KeyError if the element is not found.\n",
        "\n",
        "discard()-Removes a specific element from the set, but does not raise an error if the element is not found.\n",
        "\n",
        "pop()-Removes and returns an arbitrary element from the set.\n",
        "\n",
        "clear()-Removes all elements from the set.\n",
        "\n",
        "union()-Returns a set containing all elements from both sets.\n",
        "\n",
        "intersection()-Returns a set containing only elements that are common in both sets.\n"
      ],
      "metadata": {
        "id": "WN0mDLpKD_xt"
      }
    },
    {
      "cell_type": "markdown",
      "source": [
        "##Insertion"
      ],
      "metadata": {
        "id": "10Rteay0E2Vx"
      }
    },
    {
      "cell_type": "code",
      "source": [
        "my_set = {1, 2, 3}\n",
        "my_set.add(4)\n",
        "print(my_set)  # Output: {1, 2, 3, 4}\n"
      ],
      "metadata": {
        "id": "TMe-w46fFbHS",
        "colab": {
          "base_uri": "https://localhost:8080/"
        },
        "outputId": "30ab9fb8-f42f-421e-c392-a88b0db6d51a"
      },
      "execution_count": 42,
      "outputs": [
        {
          "output_type": "stream",
          "name": "stdout",
          "text": [
            "{1, 2, 3, 4}\n"
          ]
        }
      ]
    },
    {
      "cell_type": "markdown",
      "source": [
        "##Deletion"
      ],
      "metadata": {
        "id": "B66o6GwcFd-T"
      }
    },
    {
      "cell_type": "code",
      "source": [
        "# Remove\n",
        "my_set.remove(3)\n",
        "print(my_set)  # Output: {1, 2, 4}\n",
        "\n",
        "# Discard\n",
        "my_set.discard(2)\n",
        "print(my_set)  # Output: {1, 4}\n",
        "\n",
        "# Pop\n",
        "element = my_set.pop()\n",
        "print(my_set)  # Output: {4}\n",
        "print(element)  # Output: 1\n",
        "\n",
        "# Clear\n",
        "my_set.clear()\n",
        "print(my_set)  # Output: set()\n"
      ],
      "metadata": {
        "id": "EK0xrV9-F4mH",
        "colab": {
          "base_uri": "https://localhost:8080/"
        },
        "outputId": "25725e28-e824-467d-9c74-5e0cbb4deb84"
      },
      "execution_count": 43,
      "outputs": [
        {
          "output_type": "stream",
          "name": "stdout",
          "text": [
            "{1, 2, 4}\n",
            "{1, 4}\n",
            "{4}\n",
            "1\n",
            "set()\n"
          ]
        }
      ]
    },
    {
      "cell_type": "markdown",
      "source": [
        "# Dictionary Methods\n",
        "\n"
      ],
      "metadata": {
        "id": "vQSVMrHzG460"
      }
    },
    {
      "cell_type": "markdown",
      "source": [
        "dict[key] = value-Adds a key-value pair to the dictionary.\n",
        "\n",
        "pop(key)-Removes the key and returns its value.\n",
        "\n",
        "del dict[key]-Deletes a key-value pair.\n",
        "\n",
        "clear()-Removes all items from the dictionary.\n",
        "\n",
        "keys()-Returns a view object of all the keys in the dictionary.\n",
        "\n",
        "values()-Returns a view object of all the values in the dictionary.\n",
        "\n",
        "items()-Returns a view object of all the key-value pairs in the dictionary.\n",
        "python\n",
        "\n",
        "copy()\tReturns a copy of the dictionary\n",
        "\n",
        "fromkeys()\tReturns a dictionary with the specified keys and value\n",
        "\n",
        "get()\tReturns the value of the specified key\n",
        "\n",
        "popitem()\tRemoves the last inserted key-value pair"
      ],
      "metadata": {
        "id": "8KV183rLG9_i"
      }
    },
    {
      "cell_type": "markdown",
      "source": [
        "##Inserting"
      ],
      "metadata": {
        "id": "74xrfIJdHjnU"
      }
    },
    {
      "cell_type": "code",
      "source": [
        "my_dict = {'a': 1, 'b': 2}\n",
        "\n",
        "# Insert\n",
        "my_dict['c'] = 3\n",
        "print(my_dict)  # Output: {'a': 1, 'b': 2, 'c': 3}\n"
      ],
      "metadata": {
        "id": "EOLh5KcdHgGc",
        "colab": {
          "base_uri": "https://localhost:8080/"
        },
        "outputId": "df124cd7-564c-448c-a119-9047571a9727"
      },
      "execution_count": 44,
      "outputs": [
        {
          "output_type": "stream",
          "name": "stdout",
          "text": [
            "{'a': 1, 'b': 2, 'c': 3}\n"
          ]
        }
      ]
    },
    {
      "cell_type": "markdown",
      "source": [
        "##Deleting"
      ],
      "metadata": {
        "id": "LjFXHeOdHqP9"
      }
    },
    {
      "cell_type": "code",
      "source": [
        "# Pop\n",
        "value = my_dict.pop('b')\n",
        "print(my_dict)  # Output: {'a': 1, 'c': 3}\n",
        "print(value)  # Output: 2\n",
        "\n",
        "# Delete\n",
        "del my_dict['a']\n",
        "print(my_dict)  # Output: {'c': 3}\n",
        "\n",
        "# Clear\n",
        "my_dict.clear()\n",
        "print(my_dict)  # Output: {}\n"
      ],
      "metadata": {
        "id": "abPOzFFEHtJ6",
        "colab": {
          "base_uri": "https://localhost:8080/"
        },
        "outputId": "6c23699d-b700-438b-cfa3-0ead639226e8"
      },
      "execution_count": 45,
      "outputs": [
        {
          "output_type": "stream",
          "name": "stdout",
          "text": [
            "{'a': 1, 'c': 3}\n",
            "2\n",
            "{'c': 3}\n",
            "{}\n"
          ]
        }
      ]
    },
    {
      "cell_type": "code",
      "source": [
        "my_dict = {'a': 1, 'b': 2, 'c': 3}\n",
        "\n",
        "# Keys\n",
        "print(my_dict.keys())  # Output: dict_keys(['a', 'b', 'c'])\n",
        "\n",
        "# Values\n",
        "print(my_dict.values())  # Output: dict_values([1, 2, 3])\n",
        "\n",
        "# Items\n",
        "print(my_dict.items())  # Output: dict_items([('a', 1), ('b', 2), ('c', 3)])\n"
      ],
      "metadata": {
        "id": "Q9PapgLkHzN3",
        "colab": {
          "base_uri": "https://localhost:8080/"
        },
        "outputId": "423d1747-0ceb-43dc-d719-0581b622d871"
      },
      "execution_count": 46,
      "outputs": [
        {
          "output_type": "stream",
          "name": "stdout",
          "text": [
            "dict_keys(['a', 'b', 'c'])\n",
            "dict_values([1, 2, 3])\n",
            "dict_items([('a', 1), ('b', 2), ('c', 3)])\n"
          ]
        }
      ]
    },
    {
      "cell_type": "markdown",
      "source": [
        "##Tuples Methods"
      ],
      "metadata": {
        "id": "_bTH4WCGIMai"
      }
    },
    {
      "cell_type": "markdown",
      "source": [
        "count()-Returns the number of times a specified value occurs in a tuple\n",
        "\n",
        "index()-Searches the tuple for a specified value and returns the position of where it was found"
      ],
      "metadata": {
        "id": "PjlrZwRUIQYT"
      }
    },
    {
      "cell_type": "code",
      "source": [
        "thistuple = (1, 3, 7, 8, 7, 5, 4, 6, 8, 5)\n",
        "\n",
        "x = thistuple.count(5)\n",
        "\n",
        "print(x)"
      ],
      "metadata": {
        "id": "zGaOkmeVIVS6",
        "colab": {
          "base_uri": "https://localhost:8080/"
        },
        "outputId": "20476500-f303-4db1-e61d-6d1098fc88bf"
      },
      "execution_count": 47,
      "outputs": [
        {
          "output_type": "stream",
          "name": "stdout",
          "text": [
            "2\n"
          ]
        }
      ]
    },
    {
      "cell_type": "code",
      "source": [
        "thistuple = (1, 3, 7, 8, 7, 5, 4, 6, 8, 5)\n",
        "\n",
        "x = thistuple.index(8)\n",
        "\n",
        "print(x)"
      ],
      "metadata": {
        "id": "5d0M_-0nIZpw",
        "colab": {
          "base_uri": "https://localhost:8080/"
        },
        "outputId": "18883009-6fc7-4dec-d96f-bb1d1f35e82f"
      },
      "execution_count": 48,
      "outputs": [
        {
          "output_type": "stream",
          "name": "stdout",
          "text": [
            "3\n"
          ]
        }
      ]
    },
    {
      "cell_type": "markdown",
      "metadata": {
        "id": "RK-UIq5gGMGB"
      },
      "source": [
        "# python libraries\n",
        "\n",
        "\n",
        "\n",
        "\n",
        "1.Numpy\n",
        "\n",
        "2.pandas\n",
        "\n",
        "3.Matplotlib\n",
        "\n",
        "4.Seaborn\n",
        "\n",
        "5.Scikit-learn - data mining and data analysis."
      ]
    },
    {
      "cell_type": "markdown",
      "metadata": {
        "id": "GwhMTYTbHHvZ"
      },
      "source": [
        "# *Numpy Library*"
      ]
    },
    {
      "cell_type": "markdown",
      "metadata": {
        "id": "PYVVZ59PHPGN"
      },
      "source": [
        "numpy is a python library.\n",
        "\n",
        "\n",
        "Numpy is used for working with arrays.\n",
        "\n",
        "Numpy stands for \"Numerical python\".\n",
        "\n",
        "NumPy was created in 2005 by Travis Oliphant. It is an open source project and you can use it freely.\n",
        "\n",
        "installation of numpy is \"pip install numpy\"\n"
      ]
    },
    {
      "cell_type": "markdown",
      "metadata": {
        "id": "iFbgT_VoIWft"
      },
      "source": [
        "# **Why we use numpy**"
      ]
    },
    {
      "cell_type": "markdown",
      "metadata": {
        "id": "_0MilmQOIg4k"
      },
      "source": [
        "NumPy aims to provide an array object that is up to 50x faster than traditional Python lists.\n",
        "\n",
        "The array object in NumPy is called ndarray.\n",
        "\n",
        "Arrays are very frequently used in data science."
      ]
    },
    {
      "cell_type": "markdown",
      "metadata": {
        "id": "K68lh1WmJbYN"
      },
      "source": [
        "# **Import NumPy**"
      ]
    },
    {
      "cell_type": "markdown",
      "metadata": {
        "id": "W8myQ1oXJmJv"
      },
      "source": [
        "import numpy or import numpy as np we use both import functions"
      ]
    },
    {
      "cell_type": "code",
      "execution_count": 49,
      "metadata": {
        "colab": {
          "base_uri": "https://localhost:8080/"
        },
        "id": "PVRm11F1J5Os",
        "outputId": "35e5c52e-a746-43c6-e1f4-61f24edd116b"
      },
      "outputs": [
        {
          "output_type": "stream",
          "name": "stdout",
          "text": [
            "[1 2 3 4 5]\n"
          ]
        }
      ],
      "source": [
        "import numpy\n",
        "\n",
        "arr = numpy.array([1, 2, 3, 4, 5])\n",
        "\n",
        "print(arr)"
      ]
    },
    {
      "cell_type": "markdown",
      "metadata": {
        "id": "A9Os8KCiKCtU"
      },
      "source": [
        "# **Numpy as np**\n",
        "\n",
        "\n",
        "\n",
        "NumPy is usually imported under the np alias.\n",
        "\n",
        "import numpy as np"
      ]
    },
    {
      "cell_type": "code",
      "execution_count": 50,
      "metadata": {
        "colab": {
          "base_uri": "https://localhost:8080/"
        },
        "id": "YdFAaPxjKWIC",
        "outputId": "b8d23b6a-47de-4f32-b9cd-7144dda833a5"
      },
      "outputs": [
        {
          "output_type": "stream",
          "name": "stdout",
          "text": [
            "[1 2 3 4 5]\n"
          ]
        }
      ],
      "source": [
        "import numpy as np\n",
        "\n",
        "arr = np.array([1, 2, 3, 4, 5])\n",
        "\n",
        "print(arr)"
      ]
    },
    {
      "cell_type": "markdown",
      "metadata": {
        "id": "dw8aKKiBK7ce"
      },
      "source": [
        "# **Create a NumPy ndarray Object**\n",
        "\n",
        "\n",
        "We can create a NumPy ndarray object by using the array() function."
      ]
    },
    {
      "cell_type": "code",
      "execution_count": 51,
      "metadata": {
        "id": "LIgSSkmiLIJP",
        "colab": {
          "base_uri": "https://localhost:8080/"
        },
        "outputId": "a0d03a4b-bc4c-4127-ca24-96c96ce53a79"
      },
      "outputs": [
        {
          "output_type": "stream",
          "name": "stdout",
          "text": [
            "[1 2 3 4 5]\n",
            "<class 'numpy.ndarray'>\n"
          ]
        }
      ],
      "source": [
        "import numpy as np\n",
        "\n",
        "arr = np.array([1, 2, 3, 4, 5])\n",
        "\n",
        "print(arr)\n",
        "\n",
        "print(type(arr))"
      ]
    },
    {
      "cell_type": "markdown",
      "metadata": {
        "id": "jmBqQtf1LVdZ"
      },
      "source": [
        "type(): This built-in Python function tells us the type of the object passed to it.\n",
        "\n",
        "To create an ndarray, we can pass a list, tuple or any array-like object into the array() method, and it will be converted into an ndarray:"
      ]
    },
    {
      "cell_type": "code",
      "execution_count": 52,
      "metadata": {
        "id": "I0pMH8VRLffz",
        "colab": {
          "base_uri": "https://localhost:8080/"
        },
        "outputId": "9fa8a653-e368-4f33-9748-8d9e9e1d67bb"
      },
      "outputs": [
        {
          "output_type": "stream",
          "name": "stdout",
          "text": [
            "[1 2 3 4 5]\n"
          ]
        }
      ],
      "source": [
        "import numpy as np\n",
        "\n",
        "arr = np.array((1, 2, 3, 4, 5))\n",
        "\n",
        "print(arr)\n",
        "#using tuple"
      ]
    },
    {
      "cell_type": "markdown",
      "metadata": {
        "id": "kYmWWf5BLqxs"
      },
      "source": [
        "# Dimensions in Arrays\n",
        "\n",
        "# 0-D Arrays\n",
        "\n",
        "0-D arrays, or Scalars, are the elements in an array. Each value in an array is a 0-D array."
      ]
    },
    {
      "cell_type": "code",
      "execution_count": 53,
      "metadata": {
        "id": "6bCLmRYrMMBH",
        "colab": {
          "base_uri": "https://localhost:8080/"
        },
        "outputId": "aa5c8fe6-0f26-4025-e4aa-8c804797d9ca"
      },
      "outputs": [
        {
          "output_type": "stream",
          "name": "stdout",
          "text": [
            "42\n"
          ]
        }
      ],
      "source": [
        "#Create a 0-D array with value 42\n",
        "import numpy as np\n",
        "\n",
        "arr = np.array(42)\n",
        "\n",
        "print(arr)"
      ]
    },
    {
      "cell_type": "markdown",
      "metadata": {
        "id": "kMEkWZMsMihH"
      },
      "source": [
        "# 1-D arrays\n",
        "\n",
        "An array that has 0-D arrays as its elements is called uni-dimensional or 1-D array.\n",
        "\n",
        "These are the most common and basic arrays."
      ]
    },
    {
      "cell_type": "code",
      "execution_count": 54,
      "metadata": {
        "colab": {
          "base_uri": "https://localhost:8080/"
        },
        "id": "e9-i0WXrMw1A",
        "outputId": "cec8b28c-862d-4a1c-f094-51f277c578f3"
      },
      "outputs": [
        {
          "output_type": "stream",
          "name": "stdout",
          "text": [
            "[1 2 3 4 5]\n"
          ]
        }
      ],
      "source": [
        "import numpy as np\n",
        "\n",
        "arr = np.array([1, 2, 3, 4, 5])\n",
        "\n",
        "print(arr)"
      ]
    },
    {
      "cell_type": "markdown",
      "metadata": {
        "id": "yM59TUp_M0Zl"
      },
      "source": [
        "# 2-D Arrays\n",
        "\n",
        "An array that has 1-D arrays as its elements is called a 2-D array."
      ]
    },
    {
      "cell_type": "code",
      "execution_count": 55,
      "metadata": {
        "colab": {
          "base_uri": "https://localhost:8080/"
        },
        "id": "zz1A1ThHOKAL",
        "outputId": "e3797371-a2fe-4071-a892-8175a8ad881c"
      },
      "outputs": [
        {
          "output_type": "stream",
          "name": "stdout",
          "text": [
            "[[1 2 3]\n",
            " [4 5 6]]\n"
          ]
        }
      ],
      "source": [
        "import numpy as np\n",
        "\n",
        "arr = np.array([[1, 2, 3], [4, 5, 6]])\n",
        "\n",
        "print(arr)"
      ]
    },
    {
      "cell_type": "markdown",
      "metadata": {
        "id": "0tDe5x4ZNcJH"
      },
      "source": [
        "## **3-D arrays**\n",
        "\n",
        "An array that has 2-D arrays (matrices) as its elements is called 3-D array."
      ]
    },
    {
      "cell_type": "code",
      "execution_count": 56,
      "metadata": {
        "colab": {
          "base_uri": "https://localhost:8080/"
        },
        "id": "gYVU42iLNtUB",
        "outputId": "d8458f7a-83d4-4c86-bbd0-4955700964bc"
      },
      "outputs": [
        {
          "output_type": "stream",
          "name": "stdout",
          "text": [
            "[[[1 2 3]\n",
            "  [4 5 6]]\n",
            "\n",
            " [[1 2 3]\n",
            "  [4 5 6]]]\n"
          ]
        }
      ],
      "source": [
        "import numpy as np\n",
        "\n",
        "arr = np.array([[[1, 2, 3], [4, 5, 6]], [[1, 2, 3], [4, 5, 6]]])\n",
        "\n",
        "print(arr)"
      ]
    },
    {
      "cell_type": "markdown",
      "metadata": {
        "id": "O_KMq0w0U0Yo"
      },
      "source": [
        "# ***Numpy array indexing ***\n",
        "\n",
        "# Access Array Elements\n",
        "\n",
        "Array indexing is the same as accessing an array element.\n",
        "\n",
        "You can access an array element by referring to its index number.\n",
        "\n",
        "The indexes in NumPy arrays start with 0, meaning that the first element has index 0, and the second has index 1 etc."
      ]
    },
    {
      "cell_type": "code",
      "execution_count": 57,
      "metadata": {
        "colab": {
          "base_uri": "https://localhost:8080/"
        },
        "id": "VNJ5rubeValn",
        "outputId": "bb1b83d2-fb49-4cb4-8646-868af0b0c68d"
      },
      "outputs": [
        {
          "output_type": "stream",
          "name": "stdout",
          "text": [
            "1\n",
            "2\n",
            "5\n"
          ]
        }
      ],
      "source": [
        "import numpy as np\n",
        "\n",
        "arr = np.array([1, 2, 3, 4])\n",
        "\n",
        "print(arr[0])\n",
        "print(arr[1])\n",
        "print(arr[1]+arr[2])"
      ]
    },
    {
      "cell_type": "markdown",
      "metadata": {
        "id": "aoPxb5MZVtVp"
      },
      "source": [
        "# **Access 2-D Arrays**\n",
        "To access elements from 2-D arrays we can use comma separated integers representing the dimension and the index of the element.\n"
      ]
    },
    {
      "cell_type": "code",
      "execution_count": 58,
      "metadata": {
        "colab": {
          "base_uri": "https://localhost:8080/"
        },
        "id": "TzquSJP1WCRI",
        "outputId": "a747dd04-d8ca-4a97-dacc-6a643ff3f021"
      },
      "outputs": [
        {
          "output_type": "stream",
          "name": "stdout",
          "text": [
            "2nd element on 2nd row:  2\n"
          ]
        }
      ],
      "source": [
        "import numpy as np\n",
        "\n",
        "arr = np.array([[1,2,3,4,5], [6,7,8,9,10]])\n",
        "\n",
        "print('2nd element on 2nd row: ', arr[0, 1])"
      ]
    },
    {
      "cell_type": "code",
      "execution_count": 59,
      "metadata": {
        "colab": {
          "base_uri": "https://localhost:8080/"
        },
        "id": "6pk3T0URWHHv",
        "outputId": "7612f89b-d6e3-4b92-e71e-a7e802738384"
      },
      "outputs": [
        {
          "output_type": "stream",
          "name": "stdout",
          "text": [
            "5th element on 2nd row:  10\n"
          ]
        }
      ],
      "source": [
        "import numpy as np\n",
        "\n",
        "arr = np.array([[1,2,3,4,5], [6,7,8,9,10]])\n",
        "\n",
        "print('5th element on 2nd row: ', arr[1, 4])"
      ]
    },
    {
      "cell_type": "markdown",
      "metadata": {
        "id": "ll7M5R1SWOcs"
      },
      "source": [
        "# Access 3-D Arrays\n",
        "\n",
        "To access elements from 3-D arrays we can use comma separated integers representing the dimensions and the index of the element."
      ]
    },
    {
      "cell_type": "code",
      "execution_count": 60,
      "metadata": {
        "colab": {
          "base_uri": "https://localhost:8080/"
        },
        "id": "9oDHJHejWVc6",
        "outputId": "531059b1-ef22-433a-c6ae-f9f84a7b9664"
      },
      "outputs": [
        {
          "output_type": "stream",
          "name": "stdout",
          "text": [
            "6\n"
          ]
        }
      ],
      "source": [
        "import numpy as np\n",
        "\n",
        "arr = np.array([[[1, 2, 3], [4, 5, 6]], [[7, 8, 9], [10, 11, 12]]])\n",
        "\n",
        "print(arr[0, 1, 2])"
      ]
    },
    {
      "cell_type": "markdown",
      "metadata": {
        "id": "v3kxk-ZbWYul"
      },
      "source": [
        "\n",
        "# **Negative Indexing**\n",
        "\n",
        "Use negative indexing to access an array from the end."
      ]
    },
    {
      "cell_type": "code",
      "execution_count": 61,
      "metadata": {
        "colab": {
          "base_uri": "https://localhost:8080/"
        },
        "id": "W12TdC2QWjAS",
        "outputId": "f01f6284-1505-461a-a431-721c8b4e3383"
      },
      "outputs": [
        {
          "output_type": "stream",
          "name": "stdout",
          "text": [
            "Last element from 2nd dim:  10\n"
          ]
        }
      ],
      "source": [
        "#Print the last element from the 2nd dim:\n",
        "import numpy as np\n",
        "\n",
        "arr = np.array([[1,2,3,4,5], [6,7,8,9,10]])\n",
        "\n",
        "print('Last element from 2nd dim: ', arr[1, -1])"
      ]
    },
    {
      "cell_type": "markdown",
      "metadata": {
        "id": "tjAjzVRaX0MM"
      },
      "source": [
        "# ***NumPy Array Slicing***\n",
        "\n",
        "# Slicing arrays\n",
        "Slicing in python means taking elements from one given index to another given index.\n",
        "\n",
        "We pass slice instead of index like this: [start:end].\n",
        "\n",
        "We can also define the step, like this: [start:end:step].\n",
        "\n",
        "If we don't pass start its considered 0\n",
        "\n",
        "If we don't pass end its considered length of array in that dimension\n",
        "\n",
        "If we don't pass step its considered 1\n",
        "\n",
        "\n",
        "\n",
        "\n",
        "\n",
        "\n",
        "\n"
      ]
    },
    {
      "cell_type": "code",
      "execution_count": 62,
      "metadata": {
        "colab": {
          "base_uri": "https://localhost:8080/"
        },
        "id": "Vx4CFs90YLfq",
        "outputId": "a45ab4a8-0a62-4df0-ee36-248bd5ef3d2d"
      },
      "outputs": [
        {
          "output_type": "stream",
          "name": "stdout",
          "text": [
            "[2 3 4 5]\n"
          ]
        }
      ],
      "source": [
        "import numpy as np\n",
        "\n",
        "arr = np.array([1, 2, 3, 4, 5, 6, 7])\n",
        "\n",
        "print(arr[1:5])"
      ]
    },
    {
      "cell_type": "code",
      "execution_count": 63,
      "metadata": {
        "colab": {
          "base_uri": "https://localhost:8080/"
        },
        "id": "hlp2gY7nYO8f",
        "outputId": "772c12bc-d2e2-4bd4-97fa-a3000cfb9d76"
      },
      "outputs": [
        {
          "output_type": "stream",
          "name": "stdout",
          "text": [
            "[5 6 7]\n"
          ]
        }
      ],
      "source": [
        "#Slice elements from index 4 to the end of the array:\n",
        "import numpy as np\n",
        "\n",
        "arr = np.array([1, 2, 3, 4, 5, 6, 7])\n",
        "\n",
        "print(arr[4:])\n"
      ]
    },
    {
      "cell_type": "code",
      "execution_count": 64,
      "metadata": {
        "colab": {
          "base_uri": "https://localhost:8080/"
        },
        "id": "tbR1-sbUYW2u",
        "outputId": "111dc8ec-383e-439f-cdf1-c1b26d0fe35e"
      },
      "outputs": [
        {
          "output_type": "stream",
          "name": "stdout",
          "text": [
            "[1 2 3 4]\n"
          ]
        }
      ],
      "source": [
        "\n",
        "import numpy as np\n",
        "\n",
        "arr = np.array([1, 2, 3, 4, 5, 6, 7])\n",
        "\n",
        "print(arr[:4])\n",
        "\n"
      ]
    },
    {
      "cell_type": "code",
      "execution_count": 65,
      "metadata": {
        "colab": {
          "base_uri": "https://localhost:8080/"
        },
        "id": "FlC_hBvOYgDi",
        "outputId": "c8565275-1135-4e7d-c0c6-58902262e3b2"
      },
      "outputs": [
        {
          "output_type": "stream",
          "name": "stdout",
          "text": [
            "[5 6]\n"
          ]
        }
      ],
      "source": [
        "import numpy as np\n",
        "\n",
        "arr = np.array([1, 2, 3, 4, 5, 6, 7])\n",
        "\n",
        "print(arr[-3:-1])\n",
        "#\n",
        "#Slice from the index 3 from the end to index 1 from the end:"
      ]
    },
    {
      "cell_type": "code",
      "execution_count": 66,
      "metadata": {
        "colab": {
          "base_uri": "https://localhost:8080/"
        },
        "id": "4v8X398hYr91",
        "outputId": "b7710c72-c0ab-4d04-a52c-feafa63312b5"
      },
      "outputs": [
        {
          "output_type": "stream",
          "name": "stdout",
          "text": [
            "[2 4]\n"
          ]
        }
      ],
      "source": [
        "import numpy as np\n",
        "\n",
        "arr = np.array([1, 2, 3, 4, 5, 6, 7])\n",
        "\n",
        "print(arr[1:5:2])\n",
        "#step"
      ]
    },
    {
      "cell_type": "code",
      "execution_count": 67,
      "metadata": {
        "colab": {
          "base_uri": "https://localhost:8080/"
        },
        "id": "9lEM4H4_YzIW",
        "outputId": "0096cad7-cc25-49f9-df8b-ba57c18efe80"
      },
      "outputs": [
        {
          "output_type": "stream",
          "name": "stdout",
          "text": [
            "[1 2 3 4 5 6 7]\n"
          ]
        }
      ],
      "source": [
        "import numpy as np\n",
        "\n",
        "arr = np.array([1, 2, 3, 4, 5, 6, 7])\n",
        "\n",
        "print(arr[::1])\n",
        "#Return every other element from the entire array:"
      ]
    },
    {
      "cell_type": "markdown",
      "metadata": {
        "id": "_p2Y8xxnY-SU"
      },
      "source": [
        "# Slicing 2-d array\n",
        "\n",
        "\n",
        "From the second element, slice elements from index 1 to index 4 (not included):"
      ]
    },
    {
      "cell_type": "code",
      "execution_count": 68,
      "metadata": {
        "colab": {
          "base_uri": "https://localhost:8080/"
        },
        "id": "zayjHyeDZQs2",
        "outputId": "8fa36ecf-c7b6-456e-d5e3-2af8de820e18"
      },
      "outputs": [
        {
          "output_type": "stream",
          "name": "stdout",
          "text": [
            "[7 8 9]\n"
          ]
        }
      ],
      "source": [
        "import numpy as np\n",
        "\n",
        "arr = np.array([[1, 2, 3, 4, 5], [6, 7, 8, 9, 10]])\n",
        "\n",
        "print(arr[1, 1:4])\n"
      ]
    },
    {
      "cell_type": "markdown",
      "metadata": {
        "id": "5cL7d8i5aetf"
      },
      "source": [
        "# Data Types in NumPy\n",
        "\n",
        "Below is a list of all data types in NumPy and the characters used to represent them.\n",
        "\n",
        "i - integer\n",
        "b - boolean\n",
        "u - unsigned integer\n",
        "f - float\n",
        "c - complex float\n",
        "m - timedelta\n",
        "M - datetime\n",
        "O - object\n",
        "S - string\n",
        "U - unicode string\n",
        "V - fixed chunk of memory for other type ( void )"
      ]
    },
    {
      "cell_type": "code",
      "execution_count": 69,
      "metadata": {
        "colab": {
          "base_uri": "https://localhost:8080/"
        },
        "id": "5X5CiqCja0bK",
        "outputId": "6d52b3f1-dad5-483d-fb9f-953766c26e1f"
      },
      "outputs": [
        {
          "output_type": "stream",
          "name": "stdout",
          "text": [
            "int64\n"
          ]
        }
      ],
      "source": [
        "#Get the data type of an array object:\n",
        "import numpy as np\n",
        "\n",
        "arr = np.array([1, 2, 3, 4])\n",
        "\n",
        "print(arr.dtype)"
      ]
    },
    {
      "cell_type": "code",
      "execution_count": 70,
      "metadata": {
        "colab": {
          "base_uri": "https://localhost:8080/"
        },
        "id": "lyJ4Va-4bBwV",
        "outputId": "d2893af4-f8b0-466c-e300-f06011292d17"
      },
      "outputs": [
        {
          "output_type": "stream",
          "name": "stdout",
          "text": [
            "<U6\n"
          ]
        }
      ],
      "source": [
        "import numpy as np\n",
        "\n",
        "arr = np.array(['apple', 'banana', 'cherry'])\n",
        "\n",
        "print(arr.dtype)\n",
        "#Get the data type of an array containing strings:"
      ]
    },
    {
      "cell_type": "code",
      "execution_count": 71,
      "metadata": {
        "colab": {
          "base_uri": "https://localhost:8080/"
        },
        "id": "FXeFy02zbOvj",
        "outputId": "a2f21525-dfce-4315-9bda-a9d0abfa0d26"
      },
      "outputs": [
        {
          "output_type": "stream",
          "name": "stdout",
          "text": [
            "[b'1' b'2' b'3' b'4']\n",
            "|S1\n"
          ]
        }
      ],
      "source": [
        "import numpy as np\n",
        "\n",
        "arr = np.array([1, 2, 3, 4], dtype='S')\n",
        "\n",
        "print(arr)\n",
        "print(arr.dtype)\n",
        "#Create an array with data type string:"
      ]
    },
    {
      "cell_type": "markdown",
      "metadata": {
        "id": "xSV9YpA7cApU"
      },
      "source": [
        "# NumPy Array Copy vs View\n",
        "\n",
        "The Difference Between Copy and View\n",
        "The main difference between a copy and a view of an array is that the copy is a new array, and the view is just a view of the original array.\n",
        "\n"
      ]
    },
    {
      "cell_type": "code",
      "execution_count": 72,
      "metadata": {
        "colab": {
          "base_uri": "https://localhost:8080/"
        },
        "id": "IGgFFzNaeZ9w",
        "outputId": "63f5d640-4abf-459d-81a4-f5fd1c544989"
      },
      "outputs": [
        {
          "output_type": "stream",
          "name": "stdout",
          "text": [
            "[42  2  3  4  5]\n",
            "[1 2 3 4 5]\n"
          ]
        }
      ],
      "source": [
        "#Make a copy, change the original array, and display both arrays:\n",
        "import numpy as np\n",
        "\n",
        "arr = np.array([1, 2, 3, 4, 5])\n",
        "x = arr.copy()\n",
        "arr[0] = 42\n",
        "\n",
        "print(arr)\n",
        "print(x)"
      ]
    },
    {
      "cell_type": "code",
      "execution_count": 73,
      "metadata": {
        "colab": {
          "base_uri": "https://localhost:8080/"
        },
        "id": "O-NvEhpqeiaP",
        "outputId": "50943e64-8ced-424a-b0d3-03b30618aefa"
      },
      "outputs": [
        {
          "output_type": "stream",
          "name": "stdout",
          "text": [
            "[42  2  3  4  5]\n",
            "[42  2  3  4  5]\n"
          ]
        }
      ],
      "source": [
        "#example of view\n",
        "import numpy as np\n",
        "\n",
        "arr = np.array([1, 2, 3, 4, 5])\n",
        "x = arr.view()\n",
        "arr[0] = 42\n",
        "\n",
        "print(arr)\n",
        "print(x)"
      ]
    },
    {
      "cell_type": "markdown",
      "metadata": {
        "id": "ix_MHYF_fy7-"
      },
      "source": [
        "# Shape of an Array\n",
        "\n",
        "The shape of an array is the number of elements in each dimension."
      ]
    },
    {
      "cell_type": "code",
      "execution_count": 74,
      "metadata": {
        "colab": {
          "base_uri": "https://localhost:8080/"
        },
        "id": "X4xGfraqf6vJ",
        "outputId": "6e9a9266-b56a-4ca0-c38c-a5083d8176e3"
      },
      "outputs": [
        {
          "output_type": "stream",
          "name": "stdout",
          "text": [
            "(2, 4)\n"
          ]
        }
      ],
      "source": [
        "import numpy as np\n",
        "\n",
        "arr = np.array([[1, 2, 3, 4], [5, 6, 7, 8]])\n",
        "\n",
        "print(arr.shape)#Print the shape of a 2-D array:"
      ]
    },
    {
      "cell_type": "markdown",
      "metadata": {
        "id": "hOJ8MT1HgP6z"
      },
      "source": [
        "# NumPy Array Reshaping\n",
        "\n",
        "Reshaping means changing the shape of an array.\n",
        "\n",
        "The shape of an array is the number of elements in each dimension."
      ]
    },
    {
      "cell_type": "code",
      "execution_count": 75,
      "metadata": {
        "colab": {
          "base_uri": "https://localhost:8080/"
        },
        "id": "ubq6vkjDgd8t",
        "outputId": "dcd03271-0fec-44bb-e101-98eaf257ed12"
      },
      "outputs": [
        {
          "output_type": "stream",
          "name": "stdout",
          "text": [
            "[[ 1  2  3]\n",
            " [ 4  5  6]\n",
            " [ 7  8  9]\n",
            " [10 11 12]]\n"
          ]
        }
      ],
      "source": [
        "import numpy as np\n",
        "\n",
        "arr = np.array([1, 2, 3, 4, 5, 6, 7, 8, 9, 10, 11, 12])\n",
        "\n",
        "newarr = arr.reshape(4, 3)\n",
        "\n",
        "print(newarr)\n",
        "\n",
        "#Convert the following 1-D array with 12 elements into a 2-D array.\n",
        "\n",
        "#The outermost dimension will have 4 arrays, each with 3 elements:\n",
        "\n"
      ]
    },
    {
      "cell_type": "markdown",
      "metadata": {
        "id": "kaoifVPKhJ1T"
      },
      "source": [
        "# Sorting Arrays\n",
        "\n",
        "Sorting means putting elements in an ordered sequence."
      ]
    },
    {
      "cell_type": "code",
      "execution_count": 76,
      "metadata": {
        "colab": {
          "base_uri": "https://localhost:8080/"
        },
        "id": "CUmztKX2hPOs",
        "outputId": "490abf02-43e1-42b5-c599-97b13849d793"
      },
      "outputs": [
        {
          "output_type": "stream",
          "name": "stdout",
          "text": [
            "[0 1 2 3]\n"
          ]
        }
      ],
      "source": [
        "import numpy as np\n",
        "\n",
        "arr = np.array([3, 2, 0, 1])\n",
        "\n",
        "print(np.sort(arr))"
      ]
    },
    {
      "cell_type": "code",
      "execution_count": 77,
      "metadata": {
        "colab": {
          "base_uri": "https://localhost:8080/"
        },
        "id": "GGkqjbsShWDP",
        "outputId": "438ad8c4-fee6-485a-c264-1d9de0d4dc52"
      },
      "outputs": [
        {
          "output_type": "stream",
          "name": "stdout",
          "text": [
            "['apple' 'banana' 'cherry']\n"
          ]
        }
      ],
      "source": [
        "import numpy as np\n",
        "\n",
        "arr = np.array(['banana', 'cherry', 'apple'])\n",
        "\n",
        "print(np.sort(arr))#Sort the array alphabetically:"
      ]
    },
    {
      "cell_type": "markdown",
      "metadata": {
        "id": "t1DBPrq3jHbo"
      },
      "source": [
        "# ***Pandas ***\n",
        "\n",
        "What is Pandas?\n",
        "\n",
        "Pandas is a Python library used for working with data sets.\n",
        "\n",
        "It has functions for analyzing, cleaning, exploring, and manipulating data.\n",
        "\n",
        "Installation of pandas is import pandas as pd"
      ]
    },
    {
      "cell_type": "code",
      "execution_count": 78,
      "metadata": {
        "colab": {
          "base_uri": "https://localhost:8080/"
        },
        "id": "jDP08AlElZD6",
        "outputId": "feedeea2-14c6-4f02-8f71-27e3c700d376"
      },
      "outputs": [
        {
          "output_type": "stream",
          "name": "stdout",
          "text": [
            "    cars  passings\n",
            "0    BMW         3\n",
            "1  Volvo         7\n",
            "2   Ford         2\n"
          ]
        }
      ],
      "source": [
        "\n",
        "import pandas as pd\n",
        "\n",
        "mydataset = {\n",
        "  'cars': [\"BMW\", \"Volvo\", \"Ford\"],\n",
        "  'passings': [3, 7, 2]\n",
        "}\n",
        "\n",
        "myvar = pd.DataFrame(mydataset)\n",
        "\n",
        "print(myvar)"
      ]
    },
    {
      "cell_type": "markdown",
      "metadata": {
        "id": "RthEuLtupz9z"
      },
      "source": [
        "# **What is a Series?**\n",
        "A Pandas Series is like a column in a table.\n",
        "\n",
        "It is a one-dimensional array holding data of any type."
      ]
    },
    {
      "cell_type": "code",
      "execution_count": 79,
      "metadata": {
        "colab": {
          "base_uri": "https://localhost:8080/"
        },
        "id": "8VKz6zO3p9lr",
        "outputId": "4079d6ac-5b84-43aa-9077-c1dbb71ff44f"
      },
      "outputs": [
        {
          "output_type": "stream",
          "name": "stdout",
          "text": [
            "0    1\n",
            "1    7\n",
            "2    2\n",
            "dtype: int64\n"
          ]
        }
      ],
      "source": [
        "import pandas as pd\n",
        "\n",
        "a = [1, 7, 2]\n",
        "\n",
        "myvar = pd.Series(a)\n",
        "\n",
        "print(myvar)"
      ]
    },
    {
      "cell_type": "markdown",
      "metadata": {
        "id": "qwpysHYZqIto"
      },
      "source": [
        "# Labels\n",
        "\n",
        "If nothing else is specified, the values are labeled with their index number. First value has index 0, second value has index 1 etc.\n",
        "\n",
        "This label can be used to access a specified value."
      ]
    },
    {
      "cell_type": "code",
      "execution_count": 80,
      "metadata": {
        "colab": {
          "base_uri": "https://localhost:8080/"
        },
        "id": "LqlQJx6jqjEh",
        "outputId": "68caae25-054e-4e18-a49c-2fbcf1ea6a89"
      },
      "outputs": [
        {
          "output_type": "stream",
          "name": "stdout",
          "text": [
            "1\n"
          ]
        }
      ],
      "source": [
        "print(myvar[0])#Return the first value of the Series:"
      ]
    },
    {
      "cell_type": "markdown",
      "metadata": {
        "id": "DAmfWbdeqxTf"
      },
      "source": [
        "# create Labels\n",
        "\n",
        "With the index argument, you can name your own labels.\n"
      ]
    },
    {
      "cell_type": "code",
      "execution_count": 81,
      "metadata": {
        "colab": {
          "base_uri": "https://localhost:8080/"
        },
        "id": "lKIoRmKZqu0n",
        "outputId": "8c4cc75a-d498-437c-c215-4b807cc12207"
      },
      "outputs": [
        {
          "output_type": "stream",
          "name": "stdout",
          "text": [
            "x    1\n",
            "y    7\n",
            "z    2\n",
            "dtype: int64\n",
            "7\n"
          ]
        }
      ],
      "source": [
        "#Create your own labels:\n",
        "\n",
        "import pandas as pd\n",
        "\n",
        "a = [1, 7, 2]\n",
        "\n",
        "myvar = pd.Series(a, index = [\"x\", \"y\", \"z\"])\n",
        "\n",
        "print(myvar)\n",
        "print(myvar[\"y\"])"
      ]
    },
    {
      "cell_type": "markdown",
      "metadata": {
        "id": "UqgEFyF1rMyo"
      },
      "source": [
        "# Key/Value Objects as Series\n",
        "\n",
        "You can also use a key/value object, like a dictionary, when creating a Series."
      ]
    },
    {
      "cell_type": "code",
      "execution_count": 82,
      "metadata": {
        "colab": {
          "base_uri": "https://localhost:8080/"
        },
        "id": "5Vy7h80PrR8M",
        "outputId": "b3784839-f429-47f7-9503-b3c068058897"
      },
      "outputs": [
        {
          "output_type": "stream",
          "name": "stdout",
          "text": [
            "day1    420\n",
            "day2    380\n",
            "day3    390\n",
            "dtype: int64\n"
          ]
        }
      ],
      "source": [
        "#create a simple Pandas Series from a dictionary:\n",
        "\n",
        "import pandas as pd\n",
        "\n",
        "calories = {\"day1\": 420, \"day2\": 380, \"day3\": 390}\n",
        "\n",
        "myvar = pd.Series(calories)\n",
        "\n",
        "print(myvar)"
      ]
    },
    {
      "cell_type": "code",
      "execution_count": 83,
      "metadata": {
        "colab": {
          "base_uri": "https://localhost:8080/"
        },
        "id": "CAQsHz73rb8v",
        "outputId": "745be408-f21a-4723-efe9-ff194974a199"
      },
      "outputs": [
        {
          "output_type": "stream",
          "name": "stdout",
          "text": [
            "day1    420\n",
            "day2    380\n",
            "dtype: int64\n"
          ]
        }
      ],
      "source": [
        "#Create a Series using only data from \"day1\" and \"day2\":\n",
        "\n",
        "import pandas as pd\n",
        "\n",
        "calories = {\"day1\": 420, \"day2\": 380, \"day3\": 390}\n",
        "\n",
        "myvar = pd.Series(calories, index = [\"day1\", \"day2\"])\n",
        "\n",
        "print(myvar)"
      ]
    },
    {
      "cell_type": "markdown",
      "metadata": {
        "id": "dCbsveTWre8o"
      },
      "source": [
        "# **DataFrames**\n",
        "\n",
        "Data sets in Pandas are usually multi-dimensional tables, called DataFrames.\n",
        "\n",
        "Series is like a column, a DataFrame is the whole table."
      ]
    },
    {
      "cell_type": "code",
      "execution_count": 84,
      "metadata": {
        "colab": {
          "base_uri": "https://localhost:8080/"
        },
        "id": "ppDSdnhvrqFh",
        "outputId": "c7576890-0e6d-4d58-a26f-b00102d163e9"
      },
      "outputs": [
        {
          "output_type": "stream",
          "name": "stdout",
          "text": [
            "   calories  duration\n",
            "0       420        50\n",
            "1       380        40\n",
            "2       390        45\n"
          ]
        }
      ],
      "source": [
        "#Create a DataFrame from two Series:\n",
        "\n",
        "import pandas as pd\n",
        "\n",
        "data = {\n",
        "  \"calories\": [420, 380, 390],\n",
        "  \"duration\": [50, 40, 45]\n",
        "}\n",
        "\n",
        "myvar = pd.DataFrame(data)\n",
        "\n",
        "print(myvar)"
      ]
    },
    {
      "cell_type": "markdown",
      "metadata": {
        "id": "PDCUk5-ntLx4"
      },
      "source": [
        "# What is a DataFrame?\n",
        "A Pandas DataFrame is a 2 dimensional data structure, like a 2 dimensional array, or a table with rows and columns."
      ]
    },
    {
      "cell_type": "code",
      "execution_count": 85,
      "metadata": {
        "colab": {
          "base_uri": "https://localhost:8080/"
        },
        "id": "k0luYgzwtUfs",
        "outputId": "e083c69b-568b-4d7b-a5b5-1b1e6dbc2b71"
      },
      "outputs": [
        {
          "output_type": "stream",
          "name": "stdout",
          "text": [
            "   calories  duration\n",
            "0       420        50\n",
            "1       380        40\n",
            "2       390        45\n",
            "calories    420\n",
            "duration     50\n",
            "Name: 0, dtype: int64\n"
          ]
        }
      ],
      "source": [
        "\n",
        "\n",
        "\n",
        "\n",
        "\n",
        "#Create a simple Pandas DataFrame:\n",
        "\n",
        "import pandas as pd\n",
        "\n",
        "data = {\n",
        "  \"calories\": [420, 380, 390],\n",
        "  \"duration\": [50, 40, 45]\n",
        "}\n",
        "\n",
        "#load data into a DataFrame object:\n",
        "df = pd.DataFrame(data)\n",
        "\n",
        "print(df)\n",
        "print(df.loc[0])"
      ]
    },
    {
      "cell_type": "markdown",
      "metadata": {
        "id": "O5z4nEDBthEv"
      },
      "source": [
        "**Named Indexes**\n",
        "With the index argument, you can name your own indexes."
      ]
    },
    {
      "cell_type": "markdown",
      "metadata": {
        "id": "P1wJ_Lk4twVf"
      },
      "source": [
        "# *Load Files Into a DataFrame*\n",
        "If your data sets are stored in a file, Pandas can load them into a DataFrame."
      ]
    },
    {
      "cell_type": "code",
      "execution_count": 86,
      "metadata": {
        "id": "nIUxwR8nt21V",
        "outputId": "4d199179-c345-4835-c164-a3fcd57e48e3",
        "colab": {
          "base_uri": "https://localhost:8080/",
          "height": 651
        }
      },
      "outputs": [
        {
          "output_type": "error",
          "ename": "FileNotFoundError",
          "evalue": "[Errno 2] No such file or directory: 'data.csv'",
          "traceback": [
            "\u001b[0;31m---------------------------------------------------------------------------\u001b[0m",
            "\u001b[0;31mFileNotFoundError\u001b[0m                         Traceback (most recent call last)",
            "\u001b[0;32m<ipython-input-86-8ffe9c89cc7a>\u001b[0m in \u001b[0;36m<cell line: 3>\u001b[0;34m()\u001b[0m\n\u001b[1;32m      1\u001b[0m \u001b[0;32mimport\u001b[0m \u001b[0mpandas\u001b[0m \u001b[0;32mas\u001b[0m \u001b[0mpd\u001b[0m\u001b[0;34m\u001b[0m\u001b[0;34m\u001b[0m\u001b[0m\n\u001b[1;32m      2\u001b[0m \u001b[0;34m\u001b[0m\u001b[0m\n\u001b[0;32m----> 3\u001b[0;31m \u001b[0mdf\u001b[0m \u001b[0;34m=\u001b[0m \u001b[0mpd\u001b[0m\u001b[0;34m.\u001b[0m\u001b[0mread_csv\u001b[0m\u001b[0;34m(\u001b[0m\u001b[0;34m'data.csv'\u001b[0m\u001b[0;34m)\u001b[0m\u001b[0;34m\u001b[0m\u001b[0;34m\u001b[0m\u001b[0m\n\u001b[0m\u001b[1;32m      4\u001b[0m \u001b[0;34m\u001b[0m\u001b[0m\n\u001b[1;32m      5\u001b[0m \u001b[0mprint\u001b[0m\u001b[0;34m(\u001b[0m\u001b[0mdf\u001b[0m\u001b[0;34m)\u001b[0m\u001b[0;34m\u001b[0m\u001b[0;34m\u001b[0m\u001b[0m\n",
            "\u001b[0;32m/usr/local/lib/python3.10/dist-packages/pandas/io/parsers/readers.py\u001b[0m in \u001b[0;36mread_csv\u001b[0;34m(filepath_or_buffer, sep, delimiter, header, names, index_col, usecols, dtype, engine, converters, true_values, false_values, skipinitialspace, skiprows, skipfooter, nrows, na_values, keep_default_na, na_filter, verbose, skip_blank_lines, parse_dates, infer_datetime_format, keep_date_col, date_parser, date_format, dayfirst, cache_dates, iterator, chunksize, compression, thousands, decimal, lineterminator, quotechar, quoting, doublequote, escapechar, comment, encoding, encoding_errors, dialect, on_bad_lines, delim_whitespace, low_memory, memory_map, float_precision, storage_options, dtype_backend)\u001b[0m\n\u001b[1;32m    946\u001b[0m     \u001b[0mkwds\u001b[0m\u001b[0;34m.\u001b[0m\u001b[0mupdate\u001b[0m\u001b[0;34m(\u001b[0m\u001b[0mkwds_defaults\u001b[0m\u001b[0;34m)\u001b[0m\u001b[0;34m\u001b[0m\u001b[0;34m\u001b[0m\u001b[0m\n\u001b[1;32m    947\u001b[0m \u001b[0;34m\u001b[0m\u001b[0m\n\u001b[0;32m--> 948\u001b[0;31m     \u001b[0;32mreturn\u001b[0m \u001b[0m_read\u001b[0m\u001b[0;34m(\u001b[0m\u001b[0mfilepath_or_buffer\u001b[0m\u001b[0;34m,\u001b[0m \u001b[0mkwds\u001b[0m\u001b[0;34m)\u001b[0m\u001b[0;34m\u001b[0m\u001b[0;34m\u001b[0m\u001b[0m\n\u001b[0m\u001b[1;32m    949\u001b[0m \u001b[0;34m\u001b[0m\u001b[0m\n\u001b[1;32m    950\u001b[0m \u001b[0;34m\u001b[0m\u001b[0m\n",
            "\u001b[0;32m/usr/local/lib/python3.10/dist-packages/pandas/io/parsers/readers.py\u001b[0m in \u001b[0;36m_read\u001b[0;34m(filepath_or_buffer, kwds)\u001b[0m\n\u001b[1;32m    609\u001b[0m \u001b[0;34m\u001b[0m\u001b[0m\n\u001b[1;32m    610\u001b[0m     \u001b[0;31m# Create the parser.\u001b[0m\u001b[0;34m\u001b[0m\u001b[0;34m\u001b[0m\u001b[0m\n\u001b[0;32m--> 611\u001b[0;31m     \u001b[0mparser\u001b[0m \u001b[0;34m=\u001b[0m \u001b[0mTextFileReader\u001b[0m\u001b[0;34m(\u001b[0m\u001b[0mfilepath_or_buffer\u001b[0m\u001b[0;34m,\u001b[0m \u001b[0;34m**\u001b[0m\u001b[0mkwds\u001b[0m\u001b[0;34m)\u001b[0m\u001b[0;34m\u001b[0m\u001b[0;34m\u001b[0m\u001b[0m\n\u001b[0m\u001b[1;32m    612\u001b[0m \u001b[0;34m\u001b[0m\u001b[0m\n\u001b[1;32m    613\u001b[0m     \u001b[0;32mif\u001b[0m \u001b[0mchunksize\u001b[0m \u001b[0;32mor\u001b[0m \u001b[0miterator\u001b[0m\u001b[0;34m:\u001b[0m\u001b[0;34m\u001b[0m\u001b[0;34m\u001b[0m\u001b[0m\n",
            "\u001b[0;32m/usr/local/lib/python3.10/dist-packages/pandas/io/parsers/readers.py\u001b[0m in \u001b[0;36m__init__\u001b[0;34m(self, f, engine, **kwds)\u001b[0m\n\u001b[1;32m   1446\u001b[0m \u001b[0;34m\u001b[0m\u001b[0m\n\u001b[1;32m   1447\u001b[0m         \u001b[0mself\u001b[0m\u001b[0;34m.\u001b[0m\u001b[0mhandles\u001b[0m\u001b[0;34m:\u001b[0m \u001b[0mIOHandles\u001b[0m \u001b[0;34m|\u001b[0m \u001b[0;32mNone\u001b[0m \u001b[0;34m=\u001b[0m \u001b[0;32mNone\u001b[0m\u001b[0;34m\u001b[0m\u001b[0;34m\u001b[0m\u001b[0m\n\u001b[0;32m-> 1448\u001b[0;31m         \u001b[0mself\u001b[0m\u001b[0;34m.\u001b[0m\u001b[0m_engine\u001b[0m \u001b[0;34m=\u001b[0m \u001b[0mself\u001b[0m\u001b[0;34m.\u001b[0m\u001b[0m_make_engine\u001b[0m\u001b[0;34m(\u001b[0m\u001b[0mf\u001b[0m\u001b[0;34m,\u001b[0m \u001b[0mself\u001b[0m\u001b[0;34m.\u001b[0m\u001b[0mengine\u001b[0m\u001b[0;34m)\u001b[0m\u001b[0;34m\u001b[0m\u001b[0;34m\u001b[0m\u001b[0m\n\u001b[0m\u001b[1;32m   1449\u001b[0m \u001b[0;34m\u001b[0m\u001b[0m\n\u001b[1;32m   1450\u001b[0m     \u001b[0;32mdef\u001b[0m \u001b[0mclose\u001b[0m\u001b[0;34m(\u001b[0m\u001b[0mself\u001b[0m\u001b[0;34m)\u001b[0m \u001b[0;34m->\u001b[0m \u001b[0;32mNone\u001b[0m\u001b[0;34m:\u001b[0m\u001b[0;34m\u001b[0m\u001b[0;34m\u001b[0m\u001b[0m\n",
            "\u001b[0;32m/usr/local/lib/python3.10/dist-packages/pandas/io/parsers/readers.py\u001b[0m in \u001b[0;36m_make_engine\u001b[0;34m(self, f, engine)\u001b[0m\n\u001b[1;32m   1703\u001b[0m                 \u001b[0;32mif\u001b[0m \u001b[0;34m\"b\"\u001b[0m \u001b[0;32mnot\u001b[0m \u001b[0;32min\u001b[0m \u001b[0mmode\u001b[0m\u001b[0;34m:\u001b[0m\u001b[0;34m\u001b[0m\u001b[0;34m\u001b[0m\u001b[0m\n\u001b[1;32m   1704\u001b[0m                     \u001b[0mmode\u001b[0m \u001b[0;34m+=\u001b[0m \u001b[0;34m\"b\"\u001b[0m\u001b[0;34m\u001b[0m\u001b[0;34m\u001b[0m\u001b[0m\n\u001b[0;32m-> 1705\u001b[0;31m             self.handles = get_handle(\n\u001b[0m\u001b[1;32m   1706\u001b[0m                 \u001b[0mf\u001b[0m\u001b[0;34m,\u001b[0m\u001b[0;34m\u001b[0m\u001b[0;34m\u001b[0m\u001b[0m\n\u001b[1;32m   1707\u001b[0m                 \u001b[0mmode\u001b[0m\u001b[0;34m,\u001b[0m\u001b[0;34m\u001b[0m\u001b[0;34m\u001b[0m\u001b[0m\n",
            "\u001b[0;32m/usr/local/lib/python3.10/dist-packages/pandas/io/common.py\u001b[0m in \u001b[0;36mget_handle\u001b[0;34m(path_or_buf, mode, encoding, compression, memory_map, is_text, errors, storage_options)\u001b[0m\n\u001b[1;32m    861\u001b[0m         \u001b[0;32mif\u001b[0m \u001b[0mioargs\u001b[0m\u001b[0;34m.\u001b[0m\u001b[0mencoding\u001b[0m \u001b[0;32mand\u001b[0m \u001b[0;34m\"b\"\u001b[0m \u001b[0;32mnot\u001b[0m \u001b[0;32min\u001b[0m \u001b[0mioargs\u001b[0m\u001b[0;34m.\u001b[0m\u001b[0mmode\u001b[0m\u001b[0;34m:\u001b[0m\u001b[0;34m\u001b[0m\u001b[0;34m\u001b[0m\u001b[0m\n\u001b[1;32m    862\u001b[0m             \u001b[0;31m# Encoding\u001b[0m\u001b[0;34m\u001b[0m\u001b[0;34m\u001b[0m\u001b[0m\n\u001b[0;32m--> 863\u001b[0;31m             handle = open(\n\u001b[0m\u001b[1;32m    864\u001b[0m                 \u001b[0mhandle\u001b[0m\u001b[0;34m,\u001b[0m\u001b[0;34m\u001b[0m\u001b[0;34m\u001b[0m\u001b[0m\n\u001b[1;32m    865\u001b[0m                 \u001b[0mioargs\u001b[0m\u001b[0;34m.\u001b[0m\u001b[0mmode\u001b[0m\u001b[0;34m,\u001b[0m\u001b[0;34m\u001b[0m\u001b[0;34m\u001b[0m\u001b[0m\n",
            "\u001b[0;31mFileNotFoundError\u001b[0m: [Errno 2] No such file or directory: 'data.csv'"
          ]
        }
      ],
      "source": [
        "import pandas as pd\n",
        "\n",
        "df = pd.read_csv('data.csv')\n",
        "\n",
        "print(df)"
      ]
    },
    {
      "cell_type": "code",
      "execution_count": null,
      "metadata": {
        "id": "_w5ykfZZuNeS"
      },
      "outputs": [],
      "source": [
        "#check the number of maximum returned rows:\n",
        "\n",
        "import pandas as pd\n",
        "\n",
        "print(pd.options.display.max_rows)"
      ]
    },
    {
      "cell_type": "markdown",
      "metadata": {
        "id": "NeVaVCmGummy"
      },
      "source": [
        "# Pandas - Analyzing DataFrames\n",
        "# Viewing the Data\n",
        "One of the most used method for getting a quick overview of the DataFrame, is the head() method.\n",
        "\n",
        "The head() method returns the headers and a specified number of rows, starting from the top."
      ]
    },
    {
      "cell_type": "code",
      "execution_count": null,
      "metadata": {
        "id": "8ttE8104ux45"
      },
      "outputs": [],
      "source": [
        "#Get a quick overview by printing the first 10 rows of the DataFrame:\n",
        "\n",
        "import pandas as pd\n",
        "\n",
        "df = pd.read_csv('data.csv')\n",
        "\n",
        "print(df.head(10))"
      ]
    },
    {
      "cell_type": "markdown",
      "metadata": {
        "id": "BGuaOZ42u5o5"
      },
      "source": [
        "There is also a tail() method for viewing the last rows of the DataFrame.\n",
        "\n",
        "The tail() method returns the headers and a specified number of rows, starting from the bottom."
      ]
    },
    {
      "cell_type": "markdown",
      "metadata": {
        "id": "v-lO9YLhvA2U"
      },
      "source": [
        "# **Info About the Data**\n",
        "The DataFrames object has a method called info(), that gives you more information about the data set.\n",
        "\n"
      ]
    },
    {
      "cell_type": "code",
      "execution_count": null,
      "metadata": {
        "id": "ReRXGS5ovGJv"
      },
      "outputs": [],
      "source": [
        "\n",
        "#Print information about the data:\n",
        "\n",
        "print(df.info())"
      ]
    },
    {
      "cell_type": "markdown",
      "metadata": {
        "id": "rUEVH3bivdJK"
      },
      "source": [
        "# Data Cleaning\n",
        "\n",
        "Data cleaning means fixing bad data in your data set.\n",
        "\n",
        "Bad data could be:\n",
        "\n",
        "Empty cells\n",
        "Data in wrong format\n",
        "Wrong data\n",
        "Duplicates\n",
        "In this tutorial you will learn how to deal with all of them.\n",
        "\n"
      ]
    }
  ]
}